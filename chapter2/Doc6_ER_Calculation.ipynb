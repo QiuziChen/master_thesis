{
 "cells": [
  {
   "cell_type": "markdown",
   "metadata": {},
   "source": [
    "# ER Calculation Modification"
   ]
  },
  {
   "cell_type": "code",
   "execution_count": 1,
   "metadata": {},
   "outputs": [],
   "source": [
    "import os\n",
    "import numpy as np\n",
    "import pandas as pd\n",
    "import matplotlib.pyplot as plt\n",
    "\n",
    "from calculator import ERCalculator\n",
    "cal = ERCalculator()"
   ]
  },
  {
   "cell_type": "markdown",
   "metadata": {},
   "source": [
    "## 1 Aggregate OpMode"
   ]
  },
  {
   "cell_type": "code",
   "execution_count": 2,
   "metadata": {},
   "outputs": [],
   "source": [
    "# load trajectory\n",
    "read_path = 'data/2-mapmatched/matched/'\n",
    "traj_files = os.listdir(read_path)\n",
    "trajs = {}\n",
    "for traj_file in traj_files:\n",
    "    key = traj_file.split('.')[0]\n",
    "    trajs[key] = pd.read_csv(read_path + traj_file)"
   ]
  },
  {
   "cell_type": "code",
   "execution_count": 11,
   "metadata": {},
   "outputs": [],
   "source": [
    "traj_ei5 = pd.concat([trajs['Ei5-DRIVER1'], trajs['Ei5-DRIVER2']]).reset_index(drop=True)\n",
    "traj_modely = pd.concat([trajs['ModelY-DRIVER1'], trajs['ModelY-DRIVER2']]).reset_index(drop=True)"
   ]
  },
  {
   "cell_type": "code",
   "execution_count": 44,
   "metadata": {},
   "outputs": [],
   "source": [
    "def aggOpMode(traj):\n",
    "    traj = cal.OpModeDetect(traj)\n",
    "    traj['braking'] = traj.apply(lambda x: 1 if (x['trac_power[kW]'] < 0) & (x['pad_pressure'] >= 5) else 0, axis=1)\n",
    "    opmodes = cal.calOpModeInfo(traj, accBins=np.arange(-4.5, 0.1, 0.1))\n",
    "    opmodes = cal.calOpModeERs(opmodes, decelBins=np.arange(-4.5, 0.1, 0.1))\n",
    "    return opmodes"
   ]
  },
  {
   "cell_type": "code",
   "execution_count": 45,
   "metadata": {},
   "outputs": [],
   "source": [
    "opmodes_ei5 = aggOpMode(traj_ei5)\n",
    "opmodes_modely = aggOpMode(traj_modely)"
   ]
  },
  {
   "cell_type": "markdown",
   "metadata": {},
   "source": [
    "## 2 Comparison"
   ]
  },
  {
   "cell_type": "code",
   "execution_count": null,
   "metadata": {},
   "outputs": [],
   "source": [
    "import pickle\n",
    "with open(r\"D:\\OneDrive - 东南大学\\5 我的代码\\brake-wear-emission-modeling\\data\\agg\\agg_OpMode.pkl\", 'rb') as f:\n",
    "    opmodes = pickle.load(f)\n",
    "opmodes['brakeFrac'] = opmodes['brakeCount'] / opmodes['trajCount']\n",
    "opmodes['brakeDecelBinCount'] = opmodes['brakeDecelBinCount'].apply(lambda x: x[::-1])\n",
    "opmodes['brakeDecelBinProp'] = opmodes['brakeDecelBinCount'] / opmodes['brakeCount']\n",
    "opmodes = cal.calOpModeERs(opmodes, decelBins=np.arange(-4.5, 0.1, 0.1))"
   ]
  },
  {
   "cell_type": "markdown",
   "metadata": {},
   "source": [
    "### 2.1 OpMode Brake Frac"
   ]
  },
  {
   "cell_type": "code",
   "execution_count": 76,
   "metadata": {},
   "outputs": [
    {
     "data": {
      "text/html": [
       "<div>\n",
       "<style scoped>\n",
       "    .dataframe tbody tr th:only-of-type {\n",
       "        vertical-align: middle;\n",
       "    }\n",
       "\n",
       "    .dataframe tbody tr th {\n",
       "        vertical-align: top;\n",
       "    }\n",
       "\n",
       "    .dataframe thead th {\n",
       "        text-align: right;\n",
       "    }\n",
       "</style>\n",
       "<table border=\"1\" class=\"dataframe\">\n",
       "  <thead>\n",
       "    <tr style=\"text-align: right;\">\n",
       "      <th></th>\n",
       "      <th>brakeFrac_chengdu</th>\n",
       "      <th>brakeFrac_ei5</th>\n",
       "      <th>brakeFrac_modely</th>\n",
       "    </tr>\n",
       "  </thead>\n",
       "  <tbody>\n",
       "    <tr>\n",
       "      <th>0</th>\n",
       "      <td>1.0</td>\n",
       "      <td>0.586708</td>\n",
       "      <td>0.029218</td>\n",
       "    </tr>\n",
       "    <tr>\n",
       "      <th>1</th>\n",
       "      <td>0.06373</td>\n",
       "      <td>0.028881</td>\n",
       "      <td>0.001963</td>\n",
       "    </tr>\n",
       "    <tr>\n",
       "      <th>11</th>\n",
       "      <td>0.936091</td>\n",
       "      <td>0.557491</td>\n",
       "      <td>0.01006</td>\n",
       "    </tr>\n",
       "    <tr>\n",
       "      <th>12</th>\n",
       "      <td>0.035069</td>\n",
       "      <td>0.111853</td>\n",
       "      <td>0.004317</td>\n",
       "    </tr>\n",
       "    <tr>\n",
       "      <th>21</th>\n",
       "      <td>0.983018</td>\n",
       "      <td>0.215909</td>\n",
       "      <td>0.001701</td>\n",
       "    </tr>\n",
       "    <tr>\n",
       "      <th>22</th>\n",
       "      <td>0.166791</td>\n",
       "      <td>0.016706</td>\n",
       "      <td>0.0</td>\n",
       "    </tr>\n",
       "    <tr>\n",
       "      <th>33</th>\n",
       "      <td>0.619789</td>\n",
       "      <td>0.015385</td>\n",
       "      <td>0.0</td>\n",
       "    </tr>\n",
       "  </tbody>\n",
       "</table>\n",
       "</div>"
      ],
      "text/plain": [
       "   brakeFrac_chengdu brakeFrac_ei5 brakeFrac_modely\n",
       "0                1.0      0.586708         0.029218\n",
       "1            0.06373      0.028881         0.001963\n",
       "11          0.936091      0.557491          0.01006\n",
       "12          0.035069      0.111853         0.004317\n",
       "21          0.983018      0.215909         0.001701\n",
       "22          0.166791      0.016706              0.0\n",
       "33          0.619789      0.015385              0.0"
      ]
     },
     "execution_count": 76,
     "metadata": {},
     "output_type": "execute_result"
    }
   ],
   "source": [
    "pd.concat([opmodes['brakeFrac'].rename('brakeFrac_chengdu'), opmodes_ei5['brakeFrac'].rename('brakeFrac_ei5'), opmodes_modely['brakeFrac'].rename('brakeFrac_modely')], axis=1).loc[[0,1,11,12,21,22,33]]"
   ]
  },
  {
   "cell_type": "markdown",
   "metadata": {},
   "source": [
    "### 2.2 OpMode Brake Decel"
   ]
  },
  {
   "cell_type": "code",
   "execution_count": 87,
   "metadata": {},
   "outputs": [
    {
     "data": {
      "text/html": [
       "<div>\n",
       "<style scoped>\n",
       "    .dataframe tbody tr th:only-of-type {\n",
       "        vertical-align: middle;\n",
       "    }\n",
       "\n",
       "    .dataframe tbody tr th {\n",
       "        vertical-align: top;\n",
       "    }\n",
       "\n",
       "    .dataframe thead th {\n",
       "        text-align: right;\n",
       "    }\n",
       "</style>\n",
       "<table border=\"1\" class=\"dataframe\">\n",
       "  <thead>\n",
       "    <tr style=\"text-align: right;\">\n",
       "      <th></th>\n",
       "      <th>brakeDecelMean_chengdu</th>\n",
       "      <th>brakeDecelMean_ei5</th>\n",
       "      <th>brakeDecelMean_modely</th>\n",
       "    </tr>\n",
       "  </thead>\n",
       "  <tbody>\n",
       "    <tr>\n",
       "      <th>0</th>\n",
       "      <td>-1.690422</td>\n",
       "      <td>-0.856814</td>\n",
       "      <td>-1.380645</td>\n",
       "    </tr>\n",
       "    <tr>\n",
       "      <th>1</th>\n",
       "      <td>-0.190209</td>\n",
       "      <td>-0.245833</td>\n",
       "      <td>-0.250000</td>\n",
       "    </tr>\n",
       "    <tr>\n",
       "      <th>11</th>\n",
       "      <td>-0.489207</td>\n",
       "      <td>-0.664063</td>\n",
       "      <td>-1.040000</td>\n",
       "    </tr>\n",
       "    <tr>\n",
       "      <th>12</th>\n",
       "      <td>-0.169473</td>\n",
       "      <td>-0.486567</td>\n",
       "      <td>-0.866667</td>\n",
       "    </tr>\n",
       "    <tr>\n",
       "      <th>21</th>\n",
       "      <td>-0.521305</td>\n",
       "      <td>-0.684962</td>\n",
       "      <td>-0.700000</td>\n",
       "    </tr>\n",
       "    <tr>\n",
       "      <th>22</th>\n",
       "      <td>-0.219323</td>\n",
       "      <td>-0.314286</td>\n",
       "      <td>0.000000</td>\n",
       "    </tr>\n",
       "    <tr>\n",
       "      <th>33</th>\n",
       "      <td>-0.589040</td>\n",
       "      <td>-0.700000</td>\n",
       "      <td>0.000000</td>\n",
       "    </tr>\n",
       "  </tbody>\n",
       "</table>\n",
       "</div>"
      ],
      "text/plain": [
       "    brakeDecelMean_chengdu  brakeDecelMean_ei5  brakeDecelMean_modely\n",
       "0                -1.690422           -0.856814              -1.380645\n",
       "1                -0.190209           -0.245833              -0.250000\n",
       "11               -0.489207           -0.664063              -1.040000\n",
       "12               -0.169473           -0.486567              -0.866667\n",
       "21               -0.521305           -0.684962              -0.700000\n",
       "22               -0.219323           -0.314286               0.000000\n",
       "33               -0.589040           -0.700000               0.000000"
      ]
     },
     "execution_count": 87,
     "metadata": {},
     "output_type": "execute_result"
    }
   ],
   "source": [
    "for opmode in [opmodes, opmodes_ei5, opmodes_modely]:\n",
    "    opmode['brakeDecelMean'] = opmode['brakeDecelBinProp'].apply(lambda x: sum(x * np.arange(-4.5, 0.0, 0.1)))\n",
    "pd.concat([opmodes['brakeDecelMean'].rename('brakeDecelMean_chengdu'), opmodes_ei5['brakeDecelMean'].rename('brakeDecelMean_ei5'), opmodes_modely['brakeDecelMean'].rename('brakeDecelMean_modely')], axis=1).loc[[0,1,11,12,21,22,33]]"
   ]
  },
  {
   "cell_type": "code",
   "execution_count": 82,
   "metadata": {},
   "outputs": [
    {
     "data": {
      "text/html": [
       "<div>\n",
       "<style scoped>\n",
       "    .dataframe tbody tr th:only-of-type {\n",
       "        vertical-align: middle;\n",
       "    }\n",
       "\n",
       "    .dataframe tbody tr th {\n",
       "        vertical-align: top;\n",
       "    }\n",
       "\n",
       "    .dataframe thead th {\n",
       "        text-align: right;\n",
       "    }\n",
       "</style>\n",
       "<table border=\"1\" class=\"dataframe\">\n",
       "  <thead>\n",
       "    <tr style=\"text-align: right;\">\n",
       "      <th></th>\n",
       "      <th>ER_chengdu</th>\n",
       "      <th>ER_ei5</th>\n",
       "      <th>ER_modely</th>\n",
       "    </tr>\n",
       "  </thead>\n",
       "  <tbody>\n",
       "    <tr>\n",
       "      <th>0</th>\n",
       "      <td>4.430523</td>\n",
       "      <td>0.815062</td>\n",
       "      <td>0.305155</td>\n",
       "    </tr>\n",
       "    <tr>\n",
       "      <th>1</th>\n",
       "      <td>0.000058</td>\n",
       "      <td>0.000053</td>\n",
       "      <td>0.000004</td>\n",
       "    </tr>\n",
       "    <tr>\n",
       "      <th>11</th>\n",
       "      <td>0.035765</td>\n",
       "      <td>0.255182</td>\n",
       "      <td>0.015805</td>\n",
       "    </tr>\n",
       "    <tr>\n",
       "      <th>12</th>\n",
       "      <td>0.000018</td>\n",
       "      <td>0.010416</td>\n",
       "      <td>0.001213</td>\n",
       "    </tr>\n",
       "    <tr>\n",
       "      <th>21</th>\n",
       "      <td>0.040632</td>\n",
       "      <td>0.017625</td>\n",
       "      <td>0.000115</td>\n",
       "    </tr>\n",
       "    <tr>\n",
       "      <th>22</th>\n",
       "      <td>0.000197</td>\n",
       "      <td>0.000094</td>\n",
       "      <td>0.000000</td>\n",
       "    </tr>\n",
       "    <tr>\n",
       "      <th>33</th>\n",
       "      <td>0.033038</td>\n",
       "      <td>0.001230</td>\n",
       "      <td>0.000000</td>\n",
       "    </tr>\n",
       "  </tbody>\n",
       "</table>\n",
       "</div>"
      ],
      "text/plain": [
       "    ER_chengdu    ER_ei5  ER_modely\n",
       "0     4.430523  0.815062   0.305155\n",
       "1     0.000058  0.000053   0.000004\n",
       "11    0.035765  0.255182   0.015805\n",
       "12    0.000018  0.010416   0.001213\n",
       "21    0.040632  0.017625   0.000115\n",
       "22    0.000197  0.000094   0.000000\n",
       "33    0.033038  0.001230   0.000000"
      ]
     },
     "execution_count": 82,
     "metadata": {},
     "output_type": "execute_result"
    }
   ],
   "source": [
    "pd.concat([opmodes['ER[g/hr/veh]'].rename('ER_chengdu'), opmodes_ei5['ER[g/hr/veh]'].rename('ER_ei5'), opmodes_modely['ER[g/hr/veh]'].rename('ER_modely')], axis=1).loc[[0,1,11,12,21,22,33]]"
   ]
  },
  {
   "cell_type": "markdown",
   "metadata": {},
   "source": [
    "## Save OpMode ERs"
   ]
  },
  {
   "cell_type": "code",
   "execution_count": 89,
   "metadata": {},
   "outputs": [],
   "source": [
    "OpModeERs_Ei5 = opmodes_ei5['ER[g/hr/veh]'].to_numpy()\n",
    "np.save(\"data/OpModeERs_Ei5.npy\", OpModeERs_Ei5)\n",
    "\n",
    "OpModeERs_ModelY = opmodes_modely['ER[g/hr/veh]'].to_numpy()\n",
    "np.save(\"data/OpModeERs_ModelY.npy\", OpModeERs_ModelY)"
   ]
  }
 ],
 "metadata": {
  "kernelspec": {
   "display_name": "geo",
   "language": "python",
   "name": "python3"
  },
  "language_info": {
   "codemirror_mode": {
    "name": "ipython",
    "version": 3
   },
   "file_extension": ".py",
   "mimetype": "text/x-python",
   "name": "python",
   "nbconvert_exporter": "python",
   "pygments_lexer": "ipython3",
   "version": "3.11.3"
  }
 },
 "nbformat": 4,
 "nbformat_minor": 2
}
