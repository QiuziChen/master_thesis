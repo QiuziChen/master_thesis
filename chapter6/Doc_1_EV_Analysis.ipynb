{
 "cells": [
  {
   "cell_type": "markdown",
   "metadata": {},
   "source": [
    "# EV Analysis"
   ]
  },
  {
   "cell_type": "code",
   "execution_count": 1,
   "metadata": {},
   "outputs": [
    {
     "name": "stderr",
     "output_type": "stream",
     "text": [
      "C:\\Users\\Ricky Chen\\AppData\\Local\\Temp\\ipykernel_12364\\1779802014.py:5: MatplotlibDeprecationWarning: The get_cmap function was deprecated in Matplotlib 3.7 and will be removed two minor releases later. Use ``matplotlib.colormaps[name]`` or ``matplotlib.colormaps.get_cmap(obj)`` instead.\n",
      "  set2_colors = cm.get_cmap('Set2')\n"
     ]
    }
   ],
   "source": [
    "import numpy as np\n",
    "import pandas as pd\n",
    "import matplotlib.pyplot as plt\n",
    "import matplotlib.cm as cm\n",
    "set2_colors = cm.get_cmap('Set2')\n",
    "color1 = set2_colors(0)\n",
    "color2 = set2_colors(1)"
   ]
  },
  {
   "cell_type": "markdown",
   "metadata": {},
   "source": [
    "## 1 Weight adjustment"
   ]
  },
  {
   "cell_type": "code",
   "execution_count": 2,
   "metadata": {},
   "outputs": [],
   "source": [
    "def weight_adjust(EF, weight, a, weight_ref=1406):\n",
    "    \"\"\"\n",
    "    Adjust calculated EF according to weight.\n",
    "    \"\"\"\n",
    "    return EF * (weight/weight_ref)**(1/a)"
   ]
  },
  {
   "cell_type": "markdown",
   "metadata": {},
   "source": [
    "## 2 Sensitivity analysis"
   ]
  },
  {
   "cell_type": "markdown",
   "metadata": {},
   "source": [
    "OpMode ERs data."
   ]
  },
  {
   "cell_type": "code",
   "execution_count": 3,
   "metadata": {},
   "outputs": [],
   "source": [
    "OpModeERs = np.load(\"./data/agg/OpModeERs.npy\")\n",
    "OpModeERs_Ei5 = np.load(\"./data/agg/OpModeERs_Ei5.npy\")\n",
    "OpModeERs_ModelY = np.load(\"./data/agg/OpModeERs_ModelY.npy\")"
   ]
  },
  {
   "cell_type": "markdown",
   "metadata": {},
   "source": [
    "Link aggregation data."
   ]
  },
  {
   "cell_type": "code",
   "execution_count": 4,
   "metadata": {},
   "outputs": [],
   "source": [
    "import pickle\n",
    "with open(\"./data/agg/agg_link.pkl\", 'rb') as f:\n",
    "    agg_link = pickle.load(f)\n",
    "\n",
    "import geopandas as gpd\n",
    "roadnet = gpd.read_file(\"./data/geo/roadnet/roadnet_simplified.shp\")\n",
    "\n",
    "# link-level aggregation\n",
    "agg_link = agg_link.join(roadnet.set_index('osmid'))\n",
    "agg_link = gpd.GeoDataFrame(agg_link, geometry='geometry')\n",
    "\n",
    "# parameter calculation\n",
    "agg_link.dropna(inplace=True)\n",
    "agg_link['brakeFrac'] = agg_link['brakeCount'] / agg_link['trajCount']\n",
    "agg_link['brakeFreq'] = agg_link['brakeEventNum'] / agg_link['mileage']  # #/km\n",
    "agg_link['brakeTimeMean'] = agg_link['brakeCount'] / agg_link['brakeEventNum']  # sec\n",
    "agg_link['OpModeFrac'] = agg_link['OpModeCount'] / agg_link['trajCount']\n",
    "agg_link['brakeDecelMean'] = agg_link['brakeDecelMean'].apply(np.abs)\n",
    "agg_link.replace(np.inf, 0, inplace=True)\n",
    "agg_link.fillna(0, inplace=True)"
   ]
  },
  {
   "cell_type": "code",
   "execution_count": 5,
   "metadata": {},
   "outputs": [],
   "source": [
    "agg_link['ER'] = agg_link['OpModeFrac'].apply(lambda x: sum(x * OpModeERs))\n",
    "agg_link['EF'] = agg_link['ER'] * agg_link['trajCount'] / 3600 / agg_link['mileage'] * 1000  # mg/km/veh\n",
    "\n",
    "agg_link['ER_Ei5'] = agg_link['OpModeFrac'].apply(lambda x: sum(x * OpModeERs_Ei5))\n",
    "agg_link['EF_Ei5'] = agg_link['ER_Ei5'] * agg_link['trajCount'] / 3600 / agg_link['mileage'] * 1000  # mg/km/veh\n",
    "\n",
    "agg_link['ER_ModelY'] = agg_link['OpModeFrac'].apply(lambda x: sum(x * OpModeERs_ModelY))\n",
    "agg_link['EF_ModelY'] = agg_link['ER_ModelY'] * agg_link['trajCount'] / 3600 / agg_link['mileage'] * 1000  # mg/km/veh"
   ]
  },
  {
   "cell_type": "code",
   "execution_count": 6,
   "metadata": {},
   "outputs": [],
   "source": [
    "agg_link = agg_link[['trajCount', 'EF', 'EF_Ei5', 'EF_ModelY', 'road type', 'geometry']]"
   ]
  },
  {
   "cell_type": "markdown",
   "metadata": {},
   "source": [
    "### 2.1 EV emission factor"
   ]
  },
  {
   "cell_type": "code",
   "execution_count": 7,
   "metadata": {},
   "outputs": [],
   "source": [
    "def cal_EF(weight, reg, a):\n",
    "    # select regenerative braking level\n",
    "    if reg == 'zero':\n",
    "        EF_key = 'EF'\n",
    "    elif reg == 'weak':\n",
    "        EF_key = 'EF_Ei5'\n",
    "    else:\n",
    "        EF_key = 'EF_ModelY'\n",
    "    # calculate average EF and std\n",
    "    avg_EF = sum(agg_link[EF_key] * agg_link['trajCount']) / agg_link['trajCount'].sum()\n",
    "    EF_std = agg_link.apply(lambda x: x['trajCount']*np.power((x[EF_key]-avg_EF), 2), axis=1).sum()\n",
    "    EF_std /= agg_link['trajCount'].sum()\n",
    "    EF_std = np.sqrt(EF_std)\n",
    "    # weight adjust\n",
    "    return weight_adjust(avg_EF, weight, a), weight_adjust(EF_std, weight, a)"
   ]
  },
  {
   "cell_type": "code",
   "execution_count": 8,
   "metadata": {},
   "outputs": [],
   "source": [
    "columns = ['weight', 'reg', 'a', 'EF', 'std']\n",
    "EV_EFs = pd.DataFrame({}, columns=columns)\n",
    "\n",
    "# calcualte weight-dependent EF\n",
    "for weight in range(1400, 3500, 500):\n",
    "    for reg in ['zero', 'weak', 'strong']:\n",
    "        for a in [1, 1.9]:\n",
    "            EF, std = cal_EF(weight, reg, a)\n",
    "            EV_EFs.loc[EV_EFs.shape[0]] =[weight, reg, a, EF, std]"
   ]
  },
  {
   "cell_type": "code",
   "execution_count": 9,
   "metadata": {},
   "outputs": [],
   "source": [
    "# EV_EFs.to_csv(\"data/ev/EV_EFs.csv\", index=False)"
   ]
  },
  {
   "cell_type": "markdown",
   "metadata": {},
   "source": [
    "### Reg reduction"
   ]
  },
  {
   "cell_type": "code",
   "execution_count": 10,
   "metadata": {},
   "outputs": [
    {
     "data": {
      "text/html": [
       "<div>\n",
       "<style scoped>\n",
       "    .dataframe tbody tr th:only-of-type {\n",
       "        vertical-align: middle;\n",
       "    }\n",
       "\n",
       "    .dataframe tbody tr th {\n",
       "        vertical-align: top;\n",
       "    }\n",
       "\n",
       "    .dataframe thead th {\n",
       "        text-align: right;\n",
       "    }\n",
       "</style>\n",
       "<table border=\"1\" class=\"dataframe\">\n",
       "  <thead>\n",
       "    <tr style=\"text-align: right;\">\n",
       "      <th></th>\n",
       "      <th>weight</th>\n",
       "      <th>weak_reduce</th>\n",
       "      <th>strong_reduce</th>\n",
       "    </tr>\n",
       "  </thead>\n",
       "  <tbody>\n",
       "    <tr>\n",
       "      <th>0</th>\n",
       "      <td>1400</td>\n",
       "      <td>0.722604</td>\n",
       "      <td>0.926529</td>\n",
       "    </tr>\n",
       "    <tr>\n",
       "      <th>1</th>\n",
       "      <td>1900</td>\n",
       "      <td>0.722604</td>\n",
       "      <td>0.926529</td>\n",
       "    </tr>\n",
       "    <tr>\n",
       "      <th>2</th>\n",
       "      <td>2400</td>\n",
       "      <td>0.722604</td>\n",
       "      <td>0.926529</td>\n",
       "    </tr>\n",
       "    <tr>\n",
       "      <th>3</th>\n",
       "      <td>2900</td>\n",
       "      <td>0.722604</td>\n",
       "      <td>0.926529</td>\n",
       "    </tr>\n",
       "    <tr>\n",
       "      <th>4</th>\n",
       "      <td>3400</td>\n",
       "      <td>0.722604</td>\n",
       "      <td>0.926529</td>\n",
       "    </tr>\n",
       "  </tbody>\n",
       "</table>\n",
       "</div>"
      ],
      "text/plain": [
       "   weight  weak_reduce  strong_reduce\n",
       "0    1400     0.722604       0.926529\n",
       "1    1900     0.722604       0.926529\n",
       "2    2400     0.722604       0.926529\n",
       "3    2900     0.722604       0.926529\n",
       "4    3400     0.722604       0.926529"
      ]
     },
     "execution_count": 10,
     "metadata": {},
     "output_type": "execute_result"
    }
   ],
   "source": [
    "linear = EV_EFs[EV_EFs['a']==1]\n",
    "zero = linear[linear['reg'] == 'zero']\n",
    "weak = linear[linear['reg'] == 'weak']\n",
    "strong = linear[linear['reg'] == 'strong']\n",
    "\n",
    "pd.DataFrame({\n",
    "    'weight': zero['weight'].values,\n",
    "    'weak_reduce': (zero['EF'].values - weak['EF'].values) / zero['EF'].values,\n",
    "    'strong_reduce': (zero['EF'].values - strong['EF'].values) / zero['EF'].values,\n",
    "})"
   ]
  },
  {
   "cell_type": "code",
   "execution_count": 11,
   "metadata": {},
   "outputs": [
    {
     "data": {
      "text/html": [
       "<div>\n",
       "<style scoped>\n",
       "    .dataframe tbody tr th:only-of-type {\n",
       "        vertical-align: middle;\n",
       "    }\n",
       "\n",
       "    .dataframe tbody tr th {\n",
       "        vertical-align: top;\n",
       "    }\n",
       "\n",
       "    .dataframe thead th {\n",
       "        text-align: right;\n",
       "    }\n",
       "</style>\n",
       "<table border=\"1\" class=\"dataframe\">\n",
       "  <thead>\n",
       "    <tr style=\"text-align: right;\">\n",
       "      <th></th>\n",
       "      <th>weight</th>\n",
       "      <th>weak_reduce</th>\n",
       "      <th>strong_reduce</th>\n",
       "    </tr>\n",
       "  </thead>\n",
       "  <tbody>\n",
       "    <tr>\n",
       "      <th>0</th>\n",
       "      <td>1400</td>\n",
       "      <td>0.722604</td>\n",
       "      <td>0.926529</td>\n",
       "    </tr>\n",
       "    <tr>\n",
       "      <th>1</th>\n",
       "      <td>1900</td>\n",
       "      <td>0.722604</td>\n",
       "      <td>0.926529</td>\n",
       "    </tr>\n",
       "    <tr>\n",
       "      <th>2</th>\n",
       "      <td>2400</td>\n",
       "      <td>0.722604</td>\n",
       "      <td>0.926529</td>\n",
       "    </tr>\n",
       "    <tr>\n",
       "      <th>3</th>\n",
       "      <td>2900</td>\n",
       "      <td>0.722604</td>\n",
       "      <td>0.926529</td>\n",
       "    </tr>\n",
       "    <tr>\n",
       "      <th>4</th>\n",
       "      <td>3400</td>\n",
       "      <td>0.722604</td>\n",
       "      <td>0.926529</td>\n",
       "    </tr>\n",
       "  </tbody>\n",
       "</table>\n",
       "</div>"
      ],
      "text/plain": [
       "   weight  weak_reduce  strong_reduce\n",
       "0    1400     0.722604       0.926529\n",
       "1    1900     0.722604       0.926529\n",
       "2    2400     0.722604       0.926529\n",
       "3    2900     0.722604       0.926529\n",
       "4    3400     0.722604       0.926529"
      ]
     },
     "execution_count": 11,
     "metadata": {},
     "output_type": "execute_result"
    }
   ],
   "source": [
    "exp = EV_EFs[EV_EFs['a']==1.9]\n",
    "zero = exp[exp['reg'] == 'zero']\n",
    "weak = exp[exp['reg'] == 'weak']\n",
    "strong = exp[exp['reg'] == 'strong']\n",
    "\n",
    "pd.DataFrame({\n",
    "    'weight': zero['weight'].values,\n",
    "    'weak_reduce': (zero['EF'].values - weak['EF'].values) / zero['EF'].values,\n",
    "    'strong_reduce': (zero['EF'].values - strong['EF'].values) / zero['EF'].values,\n",
    "})"
   ]
  },
  {
   "cell_type": "code",
   "execution_count": 12,
   "metadata": {},
   "outputs": [
    {
     "data": {
      "text/html": [
       "<div>\n",
       "<style scoped>\n",
       "    .dataframe tbody tr th:only-of-type {\n",
       "        vertical-align: middle;\n",
       "    }\n",
       "\n",
       "    .dataframe tbody tr th {\n",
       "        vertical-align: top;\n",
       "    }\n",
       "\n",
       "    .dataframe thead th {\n",
       "        text-align: right;\n",
       "    }\n",
       "</style>\n",
       "<table border=\"1\" class=\"dataframe\">\n",
       "  <thead>\n",
       "    <tr style=\"text-align: right;\">\n",
       "      <th></th>\n",
       "      <th>weight</th>\n",
       "      <th>zero_EF_increase</th>\n",
       "      <th>weak_EF</th>\n",
       "      <th>strong_EF</th>\n",
       "    </tr>\n",
       "  </thead>\n",
       "  <tbody>\n",
       "    <tr>\n",
       "      <th>0</th>\n",
       "      <td>1400</td>\n",
       "      <td>9.547596</td>\n",
       "      <td>2.648469</td>\n",
       "      <td>0.701473</td>\n",
       "    </tr>\n",
       "    <tr>\n",
       "      <th>1</th>\n",
       "      <td>1900</td>\n",
       "      <td>9.547596</td>\n",
       "      <td>2.648469</td>\n",
       "      <td>0.701473</td>\n",
       "    </tr>\n",
       "    <tr>\n",
       "      <th>2</th>\n",
       "      <td>2400</td>\n",
       "      <td>9.547596</td>\n",
       "      <td>2.648469</td>\n",
       "      <td>0.701473</td>\n",
       "    </tr>\n",
       "    <tr>\n",
       "      <th>3</th>\n",
       "      <td>2900</td>\n",
       "      <td>9.547596</td>\n",
       "      <td>2.648469</td>\n",
       "      <td>0.701473</td>\n",
       "    </tr>\n",
       "    <tr>\n",
       "      <th>4</th>\n",
       "      <td>3400</td>\n",
       "      <td>NaN</td>\n",
       "      <td>NaN</td>\n",
       "      <td>NaN</td>\n",
       "    </tr>\n",
       "  </tbody>\n",
       "</table>\n",
       "</div>"
      ],
      "text/plain": [
       "   weight  zero_EF_increase   weak_EF  strong_EF\n",
       "0    1400          9.547596  2.648469   0.701473\n",
       "1    1900          9.547596  2.648469   0.701473\n",
       "2    2400          9.547596  2.648469   0.701473\n",
       "3    2900          9.547596  2.648469   0.701473\n",
       "4    3400               NaN       NaN        NaN"
      ]
     },
     "execution_count": 12,
     "metadata": {},
     "output_type": "execute_result"
    }
   ],
   "source": [
    "linear = EV_EFs[EV_EFs['a']==1]\n",
    "zero = linear[linear['reg'] == 'zero']\n",
    "weak = linear[linear['reg'] == 'weak']\n",
    "strong = linear[linear['reg'] == 'strong']\n",
    "\n",
    "pd.DataFrame({\n",
    "    'weight': zero['weight'].values,\n",
    "    'zero_EF_increase': (zero['EF'].shift(-1) - zero['EF']).values,\n",
    "    'weak_EF': (weak['EF'].shift(-1) - weak['EF']).values,\n",
    "    'strong_EF': (strong['EF'].shift(-1) - strong['EF']).values,\n",
    "})"
   ]
  },
  {
   "cell_type": "code",
   "execution_count": 13,
   "metadata": {},
   "outputs": [
    {
     "data": {
      "text/html": [
       "<div>\n",
       "<style scoped>\n",
       "    .dataframe tbody tr th:only-of-type {\n",
       "        vertical-align: middle;\n",
       "    }\n",
       "\n",
       "    .dataframe tbody tr th {\n",
       "        vertical-align: top;\n",
       "    }\n",
       "\n",
       "    .dataframe thead th {\n",
       "        text-align: right;\n",
       "    }\n",
       "</style>\n",
       "<table border=\"1\" class=\"dataframe\">\n",
       "  <thead>\n",
       "    <tr style=\"text-align: right;\">\n",
       "      <th></th>\n",
       "      <th>weight</th>\n",
       "      <th>zero_EF_increase</th>\n",
       "      <th>weak_EF</th>\n",
       "      <th>strong_EF</th>\n",
       "    </tr>\n",
       "  </thead>\n",
       "  <tbody>\n",
       "    <tr>\n",
       "      <th>count</th>\n",
       "      <td>5.000000</td>\n",
       "      <td>4.000000</td>\n",
       "      <td>4.000000</td>\n",
       "      <td>4.000000</td>\n",
       "    </tr>\n",
       "    <tr>\n",
       "      <th>mean</th>\n",
       "      <td>2400.000000</td>\n",
       "      <td>3.986004</td>\n",
       "      <td>1.105703</td>\n",
       "      <td>0.292856</td>\n",
       "    </tr>\n",
       "    <tr>\n",
       "      <th>std</th>\n",
       "      <td>790.569415</td>\n",
       "      <td>0.535643</td>\n",
       "      <td>0.148585</td>\n",
       "      <td>0.039354</td>\n",
       "    </tr>\n",
       "    <tr>\n",
       "      <th>min</th>\n",
       "      <td>1400.000000</td>\n",
       "      <td>3.431752</td>\n",
       "      <td>0.951956</td>\n",
       "      <td>0.252135</td>\n",
       "    </tr>\n",
       "    <tr>\n",
       "      <th>25%</th>\n",
       "      <td>1900.000000</td>\n",
       "      <td>3.652195</td>\n",
       "      <td>1.013106</td>\n",
       "      <td>0.268331</td>\n",
       "    </tr>\n",
       "    <tr>\n",
       "      <th>50%</th>\n",
       "      <td>2400.000000</td>\n",
       "      <td>3.920739</td>\n",
       "      <td>1.087599</td>\n",
       "      <td>0.288061</td>\n",
       "    </tr>\n",
       "    <tr>\n",
       "      <th>75%</th>\n",
       "      <td>2900.000000</td>\n",
       "      <td>4.254548</td>\n",
       "      <td>1.180196</td>\n",
       "      <td>0.312586</td>\n",
       "    </tr>\n",
       "    <tr>\n",
       "      <th>max</th>\n",
       "      <td>3400.000000</td>\n",
       "      <td>4.670786</td>\n",
       "      <td>1.295659</td>\n",
       "      <td>0.343168</td>\n",
       "    </tr>\n",
       "  </tbody>\n",
       "</table>\n",
       "</div>"
      ],
      "text/plain": [
       "            weight  zero_EF_increase   weak_EF  strong_EF\n",
       "count     5.000000          4.000000  4.000000   4.000000\n",
       "mean   2400.000000          3.986004  1.105703   0.292856\n",
       "std     790.569415          0.535643  0.148585   0.039354\n",
       "min    1400.000000          3.431752  0.951956   0.252135\n",
       "25%    1900.000000          3.652195  1.013106   0.268331\n",
       "50%    2400.000000          3.920739  1.087599   0.288061\n",
       "75%    2900.000000          4.254548  1.180196   0.312586\n",
       "max    3400.000000          4.670786  1.295659   0.343168"
      ]
     },
     "execution_count": 13,
     "metadata": {},
     "output_type": "execute_result"
    }
   ],
   "source": [
    "exp = EV_EFs[EV_EFs['a']==1.9]\n",
    "zero = exp[exp['reg'] == 'zero']\n",
    "weak = exp[exp['reg'] == 'weak']\n",
    "strong = exp[exp['reg'] == 'strong']\n",
    "\n",
    "pd.DataFrame({\n",
    "    'weight': zero['weight'].values,\n",
    "    'zero_EF_increase': (zero['EF'].shift(-1) - zero['EF']).values,\n",
    "    'weak_EF': (weak['EF'].shift(-1) - weak['EF']).values,\n",
    "    'strong_EF': (strong['EF'].shift(-1) - strong['EF']).values,\n",
    "}).describe()"
   ]
  },
  {
   "cell_type": "markdown",
   "metadata": {},
   "source": [
    "### 2.2 Trends"
   ]
  },
  {
   "cell_type": "code",
   "execution_count": 9,
   "metadata": {},
   "outputs": [
    {
     "data": {
      "text/html": [
       "<div>\n",
       "<style scoped>\n",
       "    .dataframe tbody tr th:only-of-type {\n",
       "        vertical-align: middle;\n",
       "    }\n",
       "\n",
       "    .dataframe tbody tr th {\n",
       "        vertical-align: top;\n",
       "    }\n",
       "\n",
       "    .dataframe thead th {\n",
       "        text-align: right;\n",
       "    }\n",
       "</style>\n",
       "<table border=\"1\" class=\"dataframe\">\n",
       "  <thead>\n",
       "    <tr style=\"text-align: right;\">\n",
       "      <th></th>\n",
       "      <th>population</th>\n",
       "      <th>ev population</th>\n",
       "      <th>penetration</th>\n",
       "      <th>bev%</th>\n",
       "    </tr>\n",
       "    <tr>\n",
       "      <th>year</th>\n",
       "      <th></th>\n",
       "      <th></th>\n",
       "      <th></th>\n",
       "      <th></th>\n",
       "    </tr>\n",
       "  </thead>\n",
       "  <tbody>\n",
       "    <tr>\n",
       "      <th>2016</th>\n",
       "      <td>184000000</td>\n",
       "      <td>1014000</td>\n",
       "      <td>0.005511</td>\n",
       "      <td>NaN</td>\n",
       "    </tr>\n",
       "    <tr>\n",
       "      <th>2017</th>\n",
       "      <td>217000000</td>\n",
       "      <td>1530000</td>\n",
       "      <td>0.007051</td>\n",
       "      <td>NaN</td>\n",
       "    </tr>\n",
       "    <tr>\n",
       "      <th>2018</th>\n",
       "      <td>231000000</td>\n",
       "      <td>2610000</td>\n",
       "      <td>0.011299</td>\n",
       "      <td>NaN</td>\n",
       "    </tr>\n",
       "    <tr>\n",
       "      <th>2019</th>\n",
       "      <td>260000000</td>\n",
       "      <td>3810000</td>\n",
       "      <td>0.014654</td>\n",
       "      <td>0.812</td>\n",
       "    </tr>\n",
       "    <tr>\n",
       "      <th>2020</th>\n",
       "      <td>281000000</td>\n",
       "      <td>4920000</td>\n",
       "      <td>0.017509</td>\n",
       "      <td>0.810</td>\n",
       "    </tr>\n",
       "    <tr>\n",
       "      <th>2021</th>\n",
       "      <td>302000000</td>\n",
       "      <td>7832160</td>\n",
       "      <td>0.025934</td>\n",
       "      <td>0.816</td>\n",
       "    </tr>\n",
       "    <tr>\n",
       "      <th>2022</th>\n",
       "      <td>319000000</td>\n",
       "      <td>13100000</td>\n",
       "      <td>0.041066</td>\n",
       "      <td>0.798</td>\n",
       "    </tr>\n",
       "    <tr>\n",
       "      <th>2023</th>\n",
       "      <td>336000000</td>\n",
       "      <td>20410000</td>\n",
       "      <td>0.060744</td>\n",
       "      <td>0.760</td>\n",
       "    </tr>\n",
       "  </tbody>\n",
       "</table>\n",
       "</div>"
      ],
      "text/plain": [
       "      population  ev population  penetration   bev%\n",
       "year                                               \n",
       "2016   184000000        1014000     0.005511    NaN\n",
       "2017   217000000        1530000     0.007051    NaN\n",
       "2018   231000000        2610000     0.011299    NaN\n",
       "2019   260000000        3810000     0.014654  0.812\n",
       "2020   281000000        4920000     0.017509  0.810\n",
       "2021   302000000        7832160     0.025934  0.816\n",
       "2022   319000000       13100000     0.041066  0.798\n",
       "2023   336000000       20410000     0.060744  0.760"
      ]
     },
     "execution_count": 9,
     "metadata": {},
     "output_type": "execute_result"
    }
   ],
   "source": [
    "penetration = pd.read_excel(\"data/ev/penetration.xlsx\")\n",
    "penetration.set_index('year', inplace=True)\n",
    "penetration"
   ]
  },
  {
   "cell_type": "code",
   "execution_count": 15,
   "metadata": {},
   "outputs": [],
   "source": [
    "# import matplotlib.ticker as ticker\n",
    "\n",
    "# fig, ax1 = plt.subplots(figsize=(7,3))\n",
    "# ax2 = ax1.twinx()\n",
    "\n",
    "# x = np.arange(len(penetration['year']))\n",
    "# width = 0.35\n",
    "# ax1.bar(x, penetration['population'], width, label='all vehicles', color=color1)\n",
    "# ax1.bar(x, penetration['ev population'], width, label='electric vehicles', color=color2)\n",
    "# ax1.set_xticks(x, penetration['year'])\n",
    "# ax1.set_ylabel('Population')\n",
    "\n",
    "# line, = ax2.plot(x, penetration['penetration'], 'D-', color='darkslategrey', label='EV Penetration')\n",
    "# ax2.set_ylabel('Penetration')\n",
    "# for i, v in enumerate(penetration['penetration']):\n",
    "#     ax2.text(i, v, f'{v * 100:.1f}%', color='darkslategrey', ha='right', va='bottom')\n",
    "\n",
    "# lines, labels = ax1.get_legend_handles_labels()\n",
    "# lines2, labels2 = ax2.get_legend_handles_labels()\n",
    "# ax2.legend(lines + lines2, labels + labels2, loc='upper left')\n",
    "# ax2.yaxis.set_major_formatter(ticker.PercentFormatter(xmax=1, decimals=1))\n",
    "\n",
    "# ax1.spines['top'].set_visible(False)\n",
    "# ax2.spines['top'].set_visible(False)\n",
    "# plt.show()"
   ]
  },
  {
   "cell_type": "code",
   "execution_count": 10,
   "metadata": {},
   "outputs": [
    {
     "data": {
      "text/html": [
       "<div>\n",
       "<style scoped>\n",
       "    .dataframe tbody tr th:only-of-type {\n",
       "        vertical-align: middle;\n",
       "    }\n",
       "\n",
       "    .dataframe tbody tr th {\n",
       "        vertical-align: top;\n",
       "    }\n",
       "\n",
       "    .dataframe thead th {\n",
       "        text-align: right;\n",
       "    }\n",
       "</style>\n",
       "<table border=\"1\" class=\"dataframe\">\n",
       "  <thead>\n",
       "    <tr style=\"text-align: right;\">\n",
       "      <th></th>\n",
       "      <th>icev</th>\n",
       "      <th>bev</th>\n",
       "      <th>hev</th>\n",
       "      <th>ev</th>\n",
       "      <th>inc_rate</th>\n",
       "    </tr>\n",
       "    <tr>\n",
       "      <th>year</th>\n",
       "      <th></th>\n",
       "      <th></th>\n",
       "      <th></th>\n",
       "      <th></th>\n",
       "      <th></th>\n",
       "    </tr>\n",
       "  </thead>\n",
       "  <tbody>\n",
       "    <tr>\n",
       "      <th>2016.0</th>\n",
       "      <td>1407.156133</td>\n",
       "      <td>1443.526639</td>\n",
       "      <td>1544.126185</td>\n",
       "      <td>1463.646548</td>\n",
       "      <td>0.040145</td>\n",
       "    </tr>\n",
       "    <tr>\n",
       "      <th>2017.0</th>\n",
       "      <td>1407.096447</td>\n",
       "      <td>1447.944149</td>\n",
       "      <td>1544.109606</td>\n",
       "      <td>1467.177240</td>\n",
       "      <td>0.042698</td>\n",
       "    </tr>\n",
       "    <tr>\n",
       "      <th>2018.0</th>\n",
       "      <td>1408.790029</td>\n",
       "      <td>1532.115814</td>\n",
       "      <td>1548.185079</td>\n",
       "      <td>1535.329667</td>\n",
       "      <td>0.089822</td>\n",
       "    </tr>\n",
       "    <tr>\n",
       "      <th>2019.0</th>\n",
       "      <td>1412.003449</td>\n",
       "      <td>1574.090186</td>\n",
       "      <td>1565.999669</td>\n",
       "      <td>1572.472082</td>\n",
       "      <td>0.113646</td>\n",
       "    </tr>\n",
       "    <tr>\n",
       "      <th>2020.0</th>\n",
       "      <td>1419.234621</td>\n",
       "      <td>1639.755298</td>\n",
       "      <td>1583.427437</td>\n",
       "      <td>1628.489726</td>\n",
       "      <td>0.147442</td>\n",
       "    </tr>\n",
       "    <tr>\n",
       "      <th>2021.0</th>\n",
       "      <td>1424.845006</td>\n",
       "      <td>1724.998029</td>\n",
       "      <td>1634.103609</td>\n",
       "      <td>1706.819145</td>\n",
       "      <td>0.197898</td>\n",
       "    </tr>\n",
       "    <tr>\n",
       "      <th>2022.0</th>\n",
       "      <td>1430.748765</td>\n",
       "      <td>1741.890237</td>\n",
       "      <td>1731.946080</td>\n",
       "      <td>1739.901406</td>\n",
       "      <td>0.216078</td>\n",
       "    </tr>\n",
       "    <tr>\n",
       "      <th>2023.0</th>\n",
       "      <td>1438.749570</td>\n",
       "      <td>1735.703284</td>\n",
       "      <td>1804.681774</td>\n",
       "      <td>1749.498982</td>\n",
       "      <td>0.215986</td>\n",
       "    </tr>\n",
       "  </tbody>\n",
       "</table>\n",
       "</div>"
      ],
      "text/plain": [
       "               icev          bev          hev           ev  inc_rate\n",
       "year                                                                \n",
       "2016.0  1407.156133  1443.526639  1544.126185  1463.646548  0.040145\n",
       "2017.0  1407.096447  1447.944149  1544.109606  1467.177240  0.042698\n",
       "2018.0  1408.790029  1532.115814  1548.185079  1535.329667  0.089822\n",
       "2019.0  1412.003449  1574.090186  1565.999669  1572.472082  0.113646\n",
       "2020.0  1419.234621  1639.755298  1583.427437  1628.489726  0.147442\n",
       "2021.0  1424.845006  1724.998029  1634.103609  1706.819145  0.197898\n",
       "2022.0  1430.748765  1741.890237  1731.946080  1739.901406  0.216078\n",
       "2023.0  1438.749570  1735.703284  1804.681774  1749.498982  0.215986"
      ]
     },
     "execution_count": 10,
     "metadata": {},
     "output_type": "execute_result"
    }
   ],
   "source": [
    "weight = pd.read_csv(\"data/ev/weights_2016_2023.csv\")\n",
    "weight['inc_rate'] = (weight['ev'] - weight['icev']) / weight['icev']\n",
    "weight.set_index('year', inplace=True)\n",
    "weight"
   ]
  },
  {
   "cell_type": "markdown",
   "metadata": {},
   "source": [
    "### vehicle-level EF"
   ]
  },
  {
   "cell_type": "code",
   "execution_count": 22,
   "metadata": {},
   "outputs": [],
   "source": [
    "agg_link_2016 = agg_link.copy()\n",
    "agg_link_2017 = agg_link.copy()\n",
    "agg_link_2018 = agg_link.copy()\n",
    "agg_link_2019 = agg_link.copy()\n",
    "agg_link_2020 = agg_link.copy()\n",
    "agg_link_2021 = agg_link.copy()\n",
    "agg_link_2022 = agg_link.copy()\n",
    "agg_link_2023 = agg_link.copy()\n",
    "agg_links = {\n",
    "    2016: agg_link_2016,\n",
    "    2017: agg_link_2017,\n",
    "    2018: agg_link_2018,\n",
    "    2019: agg_link_2019,\n",
    "    2020: agg_link_2020,\n",
    "    2021: agg_link_2021,\n",
    "    2022: agg_link_2022,\n",
    "    2023: agg_link_2023,\n",
    "}"
   ]
  },
  {
   "cell_type": "code",
   "execution_count": 23,
   "metadata": {},
   "outputs": [],
   "source": [
    "# calculate vehicle-level EFs after weight-adjustment\n",
    "for year, agg in agg_links.items():\n",
    "    # linear assumption\n",
    "    agg['EF_linear'] = agg['EF'].apply(lambda x: weight_adjust(x, weight.loc[year]['icev'], 1))\n",
    "    agg['EF_Ei5_linear'] = agg['EF_Ei5'].apply(lambda x: weight_adjust(x, weight.loc[year]['ev'], 1))\n",
    "    agg['EF_ModelY_linear'] = agg['EF_ModelY'].apply(lambda x: weight_adjust(x, weight.loc[year]['ev'], 1))\n",
    "    # exponetial assumption\n",
    "    agg['EF_exp'] = agg['EF'].apply(lambda x: weight_adjust(x, weight.loc[year]['icev'], 1.9))\n",
    "    agg['EF_Ei5_exp'] = agg['EF_Ei5'].apply(lambda x: weight_adjust(x, weight.loc[year]['ev'], 1.9))\n",
    "    agg['EF_ModelY_exp'] = agg['EF_ModelY'].apply(lambda x: weight_adjust(x, weight.loc[year]['ev'], 1.9))"
   ]
  },
  {
   "cell_type": "code",
   "execution_count": 24,
   "metadata": {},
   "outputs": [],
   "source": [
    "columns = ['year', 'reg', 'a', 'EF', 'std']\n",
    "EFs_year_trend = pd.DataFrame({}, columns=columns)\n",
    "\n",
    "# calcualte weight-dependent EF\n",
    "for year, agg in agg_links.items():\n",
    "    for reg in ['zero', 'weak', 'strong']:\n",
    "        for a in [1, 1.9]:\n",
    "            # select assumption and EF key\n",
    "            assumption = '_linear' if a == 1 else '_exp'\n",
    "            if reg == 'zero':\n",
    "                EF_key = 'EF'\n",
    "            elif reg == 'weak':\n",
    "                EF_key = 'EF_Ei5'\n",
    "            else:\n",
    "                EF_key = 'EF_ModelY'\n",
    "            # calculate\n",
    "            EF_key += assumption\n",
    "            avg_EF = sum(agg[EF_key] * agg['trajCount']) / agg['trajCount'].sum()\n",
    "            EF_std = agg.apply(lambda x: x['trajCount']*np.power((x[EF_key]-avg_EF), 2), axis=1).sum()\n",
    "            EF_std /= agg['trajCount'].sum()\n",
    "            EF_std = np.sqrt(EF_std)\n",
    "            EFs_year_trend.loc[EFs_year_trend.shape[0]] =[year, reg, a, avg_EF, EF_std]"
   ]
  },
  {
   "cell_type": "code",
   "execution_count": null,
   "metadata": {},
   "outputs": [],
   "source": [
    "# EFs_year_trend.to_csv(\"data/ev/EFs_year_trend.csv\", index=False)"
   ]
  },
  {
   "cell_type": "code",
   "execution_count": 26,
   "metadata": {},
   "outputs": [
    {
     "data": {
      "text/plain": [
       "(0.6857197974905731, 0.916759841652949)"
      ]
     },
     "execution_count": 26,
     "metadata": {},
     "output_type": "execute_result"
    }
   ],
   "source": [
    "linear = EFs_year_trend[EFs_year_trend['a'] == 1]\n",
    "zero_linear = linear[linear['reg'] == 'zero'].set_index('year')\n",
    "weak_linear = linear[linear['reg'] == 'weak'].set_index('year')\n",
    "strong_linear = linear[linear['reg'] == 'strong'].set_index('year')\n",
    "((zero_linear['EF'] - weak_linear['EF']) / zero_linear['EF']).mean(), ((zero_linear['EF'] - strong_linear['EF']) / zero_linear['EF']).mean()"
   ]
  },
  {
   "cell_type": "code",
   "execution_count": 27,
   "metadata": {},
   "outputs": [
    {
     "data": {
      "text/plain": [
       "(0.7038998823575457, 0.9215750133723458)"
      ]
     },
     "execution_count": 27,
     "metadata": {},
     "output_type": "execute_result"
    }
   ],
   "source": [
    "exp = EFs_year_trend[EFs_year_trend['a'] == 1.9]\n",
    "zero_exp = exp[exp['reg'] == 'zero'].set_index('year')\n",
    "weak_exp = exp[exp['reg'] == 'weak'].set_index('year')\n",
    "strong_exp = exp[exp['reg'] == 'strong'].set_index('year')\n",
    "((zero_exp['EF'] - weak_exp['EF']) / zero_exp['EF']).mean(), ((zero_exp['EF'] - strong_exp['EF']) / zero_exp['EF']).mean()"
   ]
  },
  {
   "cell_type": "markdown",
   "metadata": {},
   "source": [
    "### Consider penetration"
   ]
  },
  {
   "cell_type": "code",
   "execution_count": 28,
   "metadata": {},
   "outputs": [],
   "source": [
    "# calculate avg EFs considering penetration\n",
    "for year, agg in agg_links.items():\n",
    "    pen = penetration.loc[year]['penetration']\n",
    "    # linear assumption\n",
    "    agg['EF_weak_pen_linear'] = agg.apply(lambda x: x['EF_linear']*(1-pen) + x['EF_Ei5_linear']*pen, axis=1)\n",
    "    agg['EF_strong_pen_linear'] = agg.apply(lambda x: x['EF_linear']*(1-pen) + x['EF_ModelY_linear']*pen, axis=1)\n",
    "    # exponetial assumption\n",
    "    agg['EF_weak_pen_exp'] = agg.apply(lambda x: x['EF_exp']*(1-pen) + x['EF_Ei5_exp']*pen, axis=1)\n",
    "    agg['EF_strong_pen_exp'] = agg.apply(lambda x: x['EF_exp']*(1-pen) + x['EF_ModelY_exp']*pen, axis=1)"
   ]
  },
  {
   "cell_type": "code",
   "execution_count": 29,
   "metadata": {},
   "outputs": [],
   "source": [
    "columns = ['year', 'a', 'weak EF', 'strong EF', 'weak std', 'strong std']\n",
    "avg_EFs_year_trend = pd.DataFrame({}, columns=columns)\n",
    "\n",
    "# calcualte weight-dependent EF\n",
    "for year, agg in agg_links.items():\n",
    "    for a in [1, 1.9]:\n",
    "        # select assumption and EF key\n",
    "        assumption = '_linear' if a == 1 else '_exp'\n",
    "        # calculate\n",
    "        EF_key_weak = 'EF_weak_pen' + assumption\n",
    "        EF_key_strong = 'EF_strong_pen' + assumption\n",
    "        # weak\n",
    "        avg_EF_weak = sum(agg[EF_key_weak] * agg['trajCount']) / agg['trajCount'].sum()\n",
    "        EF_std_weak = agg.apply(lambda x: x['trajCount']*np.power((x[EF_key_weak]-avg_EF_weak), 2), axis=1).sum()\n",
    "        EF_std_weak /= agg['trajCount'].sum()\n",
    "        EF_std_weak = np.sqrt(EF_std_weak)\n",
    "        # strong\n",
    "        avg_EF_strong = sum(agg[EF_key_strong] * agg['trajCount']) / agg['trajCount'].sum()\n",
    "        EF_std_strong = agg.apply(lambda x: x['trajCount']*np.power((x[EF_key_strong]-avg_EF_strong), 2), axis=1).sum()\n",
    "        EF_std_strong /= agg['trajCount'].sum()\n",
    "        EF_std_strong = np.sqrt(EF_std_strong)\n",
    "        # save\n",
    "        avg_EFs_year_trend.loc[avg_EFs_year_trend.shape[0]] =[year, a, avg_EF_weak, avg_EF_strong, EF_std_weak, EF_std_strong]"
   ]
  },
  {
   "cell_type": "code",
   "execution_count": null,
   "metadata": {},
   "outputs": [],
   "source": [
    "# avg_EFs_year_trend.to_csv('data/ev/avg_EFs_year_trend.csv', index=False)"
   ]
  },
  {
   "cell_type": "markdown",
   "metadata": {},
   "source": [
    "### penetration sensitivity"
   ]
  },
  {
   "cell_type": "code",
   "execution_count": 31,
   "metadata": {},
   "outputs": [],
   "source": [
    "columns = ['year', 'pen', 'EF_linear', 'EF_exp']\n",
    "EFs_year_pen_sensitivity = pd.DataFrame({}, columns=columns)\n",
    "\n",
    "# calculate avg EFs considering penetration\n",
    "for year, agg in agg_links.items():\n",
    "    trajCount = agg['trajCount']\n",
    "    for pen in np.arange(0., 0.5, 0.01):\n",
    "        # linear assumption\n",
    "        EF_weak_pen_linear = agg.apply(lambda x: x['EF_linear']*(1-pen) + x['EF_Ei5_linear']*pen, axis=1)\n",
    "        EF_strong_pen_linear = agg.apply(lambda x: x['EF_linear']*(1-pen) + x['EF_ModelY_linear']*pen, axis=1)\n",
    "        mean_EF_pen_linear = 0.5 * (\n",
    "            sum(EF_weak_pen_linear * trajCount) / trajCount.sum() +\n",
    "            sum(EF_strong_pen_linear * trajCount) / trajCount.sum()\n",
    "        )\n",
    "        # exponetial assumption\n",
    "        EF_weak_pen_exp = agg.apply(lambda x: x['EF_exp']*(1-pen) + x['EF_Ei5_exp']*pen, axis=1)\n",
    "        EF_strong_pen_exp = agg.apply(lambda x: x['EF_exp']*(1-pen) + x['EF_ModelY_exp']*pen, axis=1)\n",
    "        mean_EF_pen_exp = 0.5 * (\n",
    "            sum(EF_weak_pen_exp * trajCount) / trajCount.sum() +\n",
    "            sum(EF_strong_pen_exp * trajCount) / trajCount.sum()\n",
    "        )\n",
    "        # save\n",
    "        EFs_year_pen_sensitivity.loc[EFs_year_pen_sensitivity.shape[0]] = [year, pen, mean_EF_pen_linear, mean_EF_pen_exp]"
   ]
  },
  {
   "cell_type": "code",
   "execution_count": 32,
   "metadata": {},
   "outputs": [],
   "source": [
    "EFs_year_pen_sensitivity.to_csv(\"data/ev/EFs_year_pen_sensitivity.csv\", index=False)"
   ]
  },
  {
   "cell_type": "markdown",
   "metadata": {},
   "source": [
    "### penetration and EV weight increasing rate"
   ]
  },
  {
   "cell_type": "code",
   "execution_count": 28,
   "metadata": {},
   "outputs": [
    {
     "data": {
      "text/html": [
       "<div>\n",
       "<style scoped>\n",
       "    .dataframe tbody tr th:only-of-type {\n",
       "        vertical-align: middle;\n",
       "    }\n",
       "\n",
       "    .dataframe tbody tr th {\n",
       "        vertical-align: top;\n",
       "    }\n",
       "\n",
       "    .dataframe thead th {\n",
       "        text-align: right;\n",
       "    }\n",
       "</style>\n",
       "<table border=\"1\" class=\"dataframe\">\n",
       "  <thead>\n",
       "    <tr style=\"text-align: right;\">\n",
       "      <th></th>\n",
       "      <th>pen_inc_rate</th>\n",
       "      <th>icev_weight_inc_rate</th>\n",
       "      <th>ev_weight_inc_rate</th>\n",
       "    </tr>\n",
       "    <tr>\n",
       "      <th>year</th>\n",
       "      <th></th>\n",
       "      <th></th>\n",
       "      <th></th>\n",
       "    </tr>\n",
       "  </thead>\n",
       "  <tbody>\n",
       "    <tr>\n",
       "      <th>2016</th>\n",
       "      <td>NaN</td>\n",
       "      <td>NaN</td>\n",
       "      <td>NaN</td>\n",
       "    </tr>\n",
       "    <tr>\n",
       "      <th>2017</th>\n",
       "      <td>0.001540</td>\n",
       "      <td>-0.000042</td>\n",
       "      <td>0.002412</td>\n",
       "    </tr>\n",
       "    <tr>\n",
       "      <th>2018</th>\n",
       "      <td>0.004248</td>\n",
       "      <td>0.001204</td>\n",
       "      <td>0.046451</td>\n",
       "    </tr>\n",
       "    <tr>\n",
       "      <th>2019</th>\n",
       "      <td>0.003355</td>\n",
       "      <td>0.002281</td>\n",
       "      <td>0.024192</td>\n",
       "    </tr>\n",
       "    <tr>\n",
       "      <th>2020</th>\n",
       "      <td>0.002855</td>\n",
       "      <td>0.005121</td>\n",
       "      <td>0.035624</td>\n",
       "    </tr>\n",
       "    <tr>\n",
       "      <th>2021</th>\n",
       "      <td>0.008425</td>\n",
       "      <td>0.003953</td>\n",
       "      <td>0.048099</td>\n",
       "    </tr>\n",
       "    <tr>\n",
       "      <th>2022</th>\n",
       "      <td>0.015132</td>\n",
       "      <td>0.004143</td>\n",
       "      <td>0.019382</td>\n",
       "    </tr>\n",
       "  </tbody>\n",
       "</table>\n",
       "</div>"
      ],
      "text/plain": [
       "      pen_inc_rate  icev_weight_inc_rate  ev_weight_inc_rate\n",
       "year                                                        \n",
       "2016           NaN                   NaN                 NaN\n",
       "2017      0.001540             -0.000042            0.002412\n",
       "2018      0.004248              0.001204            0.046451\n",
       "2019      0.003355              0.002281            0.024192\n",
       "2020      0.002855              0.005121            0.035624\n",
       "2021      0.008425              0.003953            0.048099\n",
       "2022      0.015132              0.004143            0.019382"
      ]
     },
     "execution_count": 28,
     "metadata": {},
     "output_type": "execute_result"
    }
   ],
   "source": [
    "inc_rate = pd.DataFrame()\n",
    "inc_rate['pen_inc_rate'] = penetration['penetration'] - penetration['penetration'].shift(1)\n",
    "inc_rate['icev_weight_inc_rate'] = (weight['icev'] - weight['icev'].shift(1)) / weight['icev'].shift(1)\n",
    "inc_rate['ev_weight_inc_rate'] = (weight['ev'] - weight['ev'].shift(1)) / weight['ev'].shift(1)\n",
    "inc_rate"
   ]
  },
  {
   "cell_type": "code",
   "execution_count": 29,
   "metadata": {},
   "outputs": [],
   "source": [
    "# inc_rate.to_csv(\"data/ev/increasing_rate.csv\")"
   ]
  }
 ],
 "metadata": {
  "kernelspec": {
   "display_name": "geo",
   "language": "python",
   "name": "python3"
  },
  "language_info": {
   "codemirror_mode": {
    "name": "ipython",
    "version": 3
   },
   "file_extension": ".py",
   "mimetype": "text/x-python",
   "name": "python",
   "nbconvert_exporter": "python",
   "pygments_lexer": "ipython3",
   "version": "3.11.3"
  }
 },
 "nbformat": 4,
 "nbformat_minor": 2
}
