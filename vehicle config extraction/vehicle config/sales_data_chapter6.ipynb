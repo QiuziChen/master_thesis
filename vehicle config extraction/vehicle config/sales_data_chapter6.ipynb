{
 "cells": [
  {
   "cell_type": "markdown",
   "metadata": {},
   "source": [
    "# Sales data from 2016 to 2024"
   ]
  },
  {
   "cell_type": "markdown",
   "metadata": {},
   "source": [
    "## 1 Data"
   ]
  },
  {
   "cell_type": "code",
   "execution_count": 1,
   "metadata": {},
   "outputs": [],
   "source": [
    "def get_basic_weight(x):\n",
    "    data = str(x).strip('[]').replace('\\'', '').replace('/', ',').replace('●', ',').replace(' ', '').split(',')\n",
    "    data = [s for s in data if any(char.isdigit() for char in s)]\n",
    "    if data:\n",
    "        data = max(data,key=data.count)\n",
    "        return int(data)\n",
    "    else:\n",
    "        return None\n",
    "\n",
    "def get_basic_brake(x):\n",
    "    data = str(x).strip('[]').replace('\\'', '').replace('/', ',').replace('●', ',').replace(' ', '').split(',')\n",
    "    data = max(data,key=data.count)\n",
    "    if '通风盘式' in data:\n",
    "        return 'ventiled'\n",
    "    elif '盘式' in data:\n",
    "        return 'disc'\n",
    "    elif '鼓式' in data:\n",
    "        return 'drum'\n",
    "    else:\n",
    "        return None\n",
    "\n",
    "car_map = {\n",
    "    'SUV': 'SUV', \n",
    "    'MPV': 'MPV',\n",
    "    '微型车': 'microcar',\n",
    "    '小型车': 'small car',\n",
    "    '紧凑型车': 'compact car',\n",
    "    '中型车': 'mid-size car',\n",
    "    '中大型车': 'large car',\n",
    "    '大型车': 'luxury car',\n",
    "    '跑车': 'sports car',\n",
    "    '不限': None\n",
    "}\n",
    "\n",
    "def get_class(x):\n",
    "    data = str(x).strip('[]').replace('\\'', '').replace('/', ',').replace('●', ',').replace(' ', '').split(',')\n",
    "    data = max(data,key=data.count)\n",
    "    for k,v in car_map.items():\n",
    "        if k in data:\n",
    "            return v\n",
    "\n",
    "def get_fuel_type(x):\n",
    "    data = str(x).strip('[]').replace('\\'', '').replace('/', ',').replace('●', ',').replace(' ', '').split(',')\n",
    "    data = max(data,key=data.count)\n",
    "    if '汽油' in data:\n",
    "        return 'ICEV'\n",
    "    elif '纯电动' in data:\n",
    "        return 'BEV'\n",
    "    elif '混' in data:\n",
    "        return 'HEV'\n",
    "    else:\n",
    "        return 'others'"
   ]
  },
  {
   "cell_type": "code",
   "execution_count": 2,
   "metadata": {},
   "outputs": [],
   "source": [
    "import pandas as pd\n",
    "\n",
    "sales = pd.DataFrame([])\n",
    "for year in range(2007, 2024, 1):\n",
    "    raw = pd.read_excel('./data/car_sale_%d.xlsx' % int(year))\n",
    "    raw.reset_index(drop=True, inplace=True)\n",
    "    sale = raw.copy()\n",
    "    sale['weight'] = sale['weight'].map(get_basic_weight)\n",
    "    sale['frontB'] = sale['frontB'].map(get_basic_brake)\n",
    "    sale['rearB'] = sale['rearB'].map(get_basic_brake)\n",
    "    sale['fuel'] = sale['fuel'].map(get_fuel_type)\n",
    "    sale['class'] = sale['class'].map(get_class)\n",
    "    sale['year'] = int(year)\n",
    "    sales = pd.concat([sales, sale])\n",
    "# sales.dropna(inplace=True)"
   ]
  },
  {
   "cell_type": "code",
   "execution_count": 3,
   "metadata": {},
   "outputs": [
    {
     "data": {
      "text/html": [
       "<div>\n",
       "<style scoped>\n",
       "    .dataframe tbody tr th:only-of-type {\n",
       "        vertical-align: middle;\n",
       "    }\n",
       "\n",
       "    .dataframe tbody tr th {\n",
       "        vertical-align: top;\n",
       "    }\n",
       "\n",
       "    .dataframe thead th {\n",
       "        text-align: right;\n",
       "    }\n",
       "</style>\n",
       "<table border=\"1\" class=\"dataframe\">\n",
       "  <thead>\n",
       "    <tr style=\"text-align: right;\">\n",
       "      <th></th>\n",
       "      <th>sales</th>\n",
       "    </tr>\n",
       "    <tr>\n",
       "      <th>year</th>\n",
       "      <th></th>\n",
       "    </tr>\n",
       "  </thead>\n",
       "  <tbody>\n",
       "    <tr>\n",
       "      <th>2007</th>\n",
       "      <td>9807885</td>\n",
       "    </tr>\n",
       "    <tr>\n",
       "      <th>2008</th>\n",
       "      <td>9913982</td>\n",
       "    </tr>\n",
       "    <tr>\n",
       "      <th>2009</th>\n",
       "      <td>11877272</td>\n",
       "    </tr>\n",
       "    <tr>\n",
       "      <th>2010</th>\n",
       "      <td>13707392</td>\n",
       "    </tr>\n",
       "    <tr>\n",
       "      <th>2011</th>\n",
       "      <td>16919260</td>\n",
       "    </tr>\n",
       "    <tr>\n",
       "      <th>2012</th>\n",
       "      <td>19139120</td>\n",
       "    </tr>\n",
       "    <tr>\n",
       "      <th>2013</th>\n",
       "      <td>24136804</td>\n",
       "    </tr>\n",
       "    <tr>\n",
       "      <th>2014</th>\n",
       "      <td>26177102</td>\n",
       "    </tr>\n",
       "    <tr>\n",
       "      <th>2015</th>\n",
       "      <td>26448363</td>\n",
       "    </tr>\n",
       "    <tr>\n",
       "      <th>2016</th>\n",
       "      <td>27616559</td>\n",
       "    </tr>\n",
       "    <tr>\n",
       "      <th>2017</th>\n",
       "      <td>24425755</td>\n",
       "    </tr>\n",
       "    <tr>\n",
       "      <th>2018</th>\n",
       "      <td>23552882</td>\n",
       "    </tr>\n",
       "    <tr>\n",
       "      <th>2019</th>\n",
       "      <td>21579541</td>\n",
       "    </tr>\n",
       "    <tr>\n",
       "      <th>2020</th>\n",
       "      <td>19750231</td>\n",
       "    </tr>\n",
       "    <tr>\n",
       "      <th>2021</th>\n",
       "      <td>20892501</td>\n",
       "    </tr>\n",
       "    <tr>\n",
       "      <th>2022</th>\n",
       "      <td>23090475</td>\n",
       "    </tr>\n",
       "    <tr>\n",
       "      <th>2023</th>\n",
       "      <td>21684678</td>\n",
       "    </tr>\n",
       "  </tbody>\n",
       "</table>\n",
       "</div>"
      ],
      "text/plain": [
       "         sales\n",
       "year          \n",
       "2007   9807885\n",
       "2008   9913982\n",
       "2009  11877272\n",
       "2010  13707392\n",
       "2011  16919260\n",
       "2012  19139120\n",
       "2013  24136804\n",
       "2014  26177102\n",
       "2015  26448363\n",
       "2016  27616559\n",
       "2017  24425755\n",
       "2018  23552882\n",
       "2019  21579541\n",
       "2020  19750231\n",
       "2021  20892501\n",
       "2022  23090475\n",
       "2023  21684678"
      ]
     },
     "execution_count": 3,
     "metadata": {},
     "output_type": "execute_result"
    }
   ],
   "source": [
    "sales[['year', 'sales']].groupby(by=['year']).sum()"
   ]
  },
  {
   "cell_type": "markdown",
   "metadata": {},
   "source": [
    "## 2 Analysis"
   ]
  },
  {
   "cell_type": "code",
   "execution_count": 4,
   "metadata": {},
   "outputs": [],
   "source": [
    "LDV_sales = sales[sales['class'].isin(['small car', 'compact car', 'mid-size car', 'large car', 'SUV'])]\n",
    "# LDV_sales = LDV_sales[LDV_sales['fuel'].isin(['ICEV', 'BEV', 'REEV', 'HEV'])]\n",
    "# LDV_sales['fuel'].replace({'BEV':'EV', 'REEV':'EV', 'HEV':'EV'}, inplace=True)"
   ]
  },
  {
   "cell_type": "code",
   "execution_count": 5,
   "metadata": {},
   "outputs": [],
   "source": [
    "LDV_sales.to_excel(\"data/car_sale_LDV_2007_23.xlsx\", index=False)"
   ]
  },
  {
   "cell_type": "code",
   "execution_count": 6,
   "metadata": {},
   "outputs": [],
   "source": [
    "# expand according to sales\n",
    "expanded_data = []\n",
    "for index, row in LDV_sales.iterrows():\n",
    "    expanded_data.extend([(row['model'], row['sales'], row['class'], row['fuel'], row['weight'], row['frontB'], row['rearB'], row['year'])] * int(row['sales'] / 100))\n",
    "expanded_LDV_sales = pd.DataFrame(expanded_data, columns=LDV_sales.columns[:-2].to_list() + ['year'])"
   ]
  },
  {
   "cell_type": "code",
   "execution_count": 7,
   "metadata": {},
   "outputs": [],
   "source": [
    "import matplotlib.pyplot as plt\n",
    "import seaborn as sns\n",
    "import numpy as np"
   ]
  },
  {
   "cell_type": "code",
   "execution_count": 8,
   "metadata": {},
   "outputs": [
    {
     "data": {
      "image/png": "[encoded data removed]",
      "text/plain": [
       "<Figure size 1000x350 with 1 Axes>"
      ]
     },
     "metadata": {},
     "output_type": "display_data"
    }
   ],
   "source": [
    "plt.figure(figsize=(10,3.5))\n",
    "sns.boxplot(\n",
    "    x='year', \n",
    "    y='weight', \n",
    "    hue='fuel', \n",
    "    hue_order=['ICEV', 'BEV', 'HEV'],\n",
    "    data=expanded_LDV_sales, \n",
    "    palette='Set2',\n",
    "    width=0.4\n",
    ")\n",
    "\n",
    "# color='navy'\n",
    "# means = expanded_LDV_sales.groupby(['year', 'fuel'], as_index=False)['weight'].mean()\n",
    "# plt.plot(np.arange(10), means[means['fuel'] == 'ICEV']['weight'], 'o--', color=color, alpha=0.7, label='ICEV mean')\n",
    "# for xi, yi in zip(np.arange(10), means[means['fuel'] == 'ICEV']['weight']):\n",
    "#     plt.text(xi, yi-100, '%d'%yi, ha='center', va='top', color=color, fontsize=10)\n",
    "# plt.plot(np.arange(10), means[means['fuel'] == 'EV']['weight'], 'D--', color=color, alpha=0.7, label='EV mean')\n",
    "# for xi, yi in zip(np.arange(10), means[means['fuel'] == 'EV']['weight']):\n",
    "#     plt.text(xi, yi+100, '%d'%yi, ha='center', va='bottom', color=color, fontsize=10)\n",
    "\n",
    "plt.legend(loc=2, ncols=3)\n",
    "plt.xlabel('Year')\n",
    "plt.ylabel('Weight')\n",
    "plt.show()"
   ]
  },
  {
   "cell_type": "code",
   "execution_count": 29,
   "metadata": {},
   "outputs": [
    {
     "data": {
      "text/plain": [
       "<Axes: xlabel='year', ylabel='sales'>"
      ]
     },
     "execution_count": 29,
     "metadata": {},
     "output_type": "execute_result"
    },
    {
     "data": {
      "image/png": "[encoded data removed]",
      "text/plain": [
       "<Figure size 640x480 with 1 Axes>"
      ]
     },
     "metadata": {},
     "output_type": "display_data"
    }
   ],
   "source": [
    "sns.barplot(LDV_sales.groupby(['year', 'fuel'], as_index=False)['sales'].sum(), x='year', y='sales', hue='fuel')"
   ]
  },
  {
   "cell_type": "code",
   "execution_count": 30,
   "metadata": {},
   "outputs": [
    {
     "data": {
      "text/plain": [
       "<Axes: xlabel='year', ylabel='prop'>"
      ]
     },
     "execution_count": 30,
     "metadata": {},
     "output_type": "execute_result"
    },
    {
     "data": {
      "image/png": "[encoded data removed]",
      "text/plain": [
       "<Figure size 640x480 with 1 Axes>"
      ]
     },
     "metadata": {},
     "output_type": "display_data"
    }
   ],
   "source": [
    "sales_year = LDV_sales.groupby(['year'], as_index=False)['sales'].sum()\n",
    "sales_year_class = LDV_sales.groupby(['year', 'class'], as_index=False)['sales'].sum()\n",
    "sales_year_class = sales_year_class.merge(sales_year, on='year')\n",
    "sales_year_class['prop'] = sales_year_class['sales_x'] / sales_year_class['sales_y']\n",
    "\n",
    "sns.barplot(sales_year_class, x='year', y='prop', hue='class')"
   ]
  },
  {
   "cell_type": "markdown",
   "metadata": {},
   "source": [
    "## consider vehicle age"
   ]
  },
  {
   "cell_type": "code",
   "execution_count": 9,
   "metadata": {},
   "outputs": [],
   "source": [
    "weights = pd.DataFrame([], columns=['year', 'icev', 'bev', 'hev', 'ev'])\n",
    "for year in range(2016, 2024):\n",
    "    if year < 2007 + 13:\n",
    "        weight_icev = expanded_LDV_sales[\n",
    "            (expanded_LDV_sales['year'] <= year) &\n",
    "            (expanded_LDV_sales['fuel'] == 'ICEV')\n",
    "        ]['weight'].mean()\n",
    "        weight_hev = expanded_LDV_sales[\n",
    "            (expanded_LDV_sales['year'] <= year) &\n",
    "            (expanded_LDV_sales['fuel'] == 'HEV')\n",
    "        ]['weight'].mean()\n",
    "    else:\n",
    "        weight_icev = expanded_LDV_sales[\n",
    "            (expanded_LDV_sales['year'] <= year) &\n",
    "            (expanded_LDV_sales['year'] > year-13) &\n",
    "            (expanded_LDV_sales['fuel'] == 'ICEV')\n",
    "        ]['weight'].mean()\n",
    "        weight_hev = expanded_LDV_sales[\n",
    "            (expanded_LDV_sales['year'] <= year) &\n",
    "            (expanded_LDV_sales['year'] > year-13) &\n",
    "            (expanded_LDV_sales['fuel'] == 'HEV')\n",
    "        ]['weight'].mean()\n",
    "    weight_bev = expanded_LDV_sales[\n",
    "        (expanded_LDV_sales['year'] <= year) &\n",
    "        (expanded_LDV_sales['year'] > year-6) &\n",
    "        (expanded_LDV_sales['fuel'] == 'BEV')\n",
    "    ]['weight'].mean()\n",
    "    weight_ev = 0.8 * weight_bev + 0.2 * weight_hev\n",
    "    weights.loc[weights.shape[0]] = [year, weight_icev, weight_bev, weight_hev, weight_ev]"
   ]
  },
  {
   "cell_type": "code",
   "execution_count": 10,
   "metadata": {},
   "outputs": [],
   "source": [
    "weights.to_csv(\"data/weights_2016_2023.csv\", index=False)"
   ]
  }
 ],
 "metadata": {
  "kernelspec": {
   "display_name": "ml",
   "language": "python",
   "name": "python3"
  },
  "language_info": {
   "codemirror_mode": {
    "name": "ipython",
    "version": 3
   },
   "file_extension": ".py",
   "mimetype": "text/x-python",
   "name": "python",
   "nbconvert_exporter": "python",
   "pygments_lexer": "ipython3",
   "version": "3.11.5"
  }
 },
 "nbformat": 4,
 "nbformat_minor": 2
}
