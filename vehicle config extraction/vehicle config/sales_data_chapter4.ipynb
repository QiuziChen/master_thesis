{
 "cells": [
  {
   "cell_type": "markdown",
   "metadata": {},
   "source": [
    "# Car Sales from 2015 to 2023"
   ]
  },
  {
   "cell_type": "code",
   "execution_count": 1,
   "metadata": {},
   "outputs": [],
   "source": [
    "import pandas as pd\n",
    "from tqdm import tqdm\n",
    "from selenium.webdriver.common.by import By\n",
    "from selenium import webdriver\n",
    "from selenium.webdriver.support.ui import WebDriverWait\n",
    "from selenium.webdriver.support import expected_conditions as EC\n",
    "from selenium.webdriver.chrome.service import Service\n",
    "from selenium.webdriver.chrome.options import Options\n",
    "from webdriver_manager.chrome import ChromeDriverManager\n",
    "# automate download\n",
    "from selenium.webdriver.chrome.service import Service\n",
    "driver_path=ChromeDriverManager().install()"
   ]
  },
  {
   "cell_type": "code",
   "execution_count": 2,
   "metadata": {},
   "outputs": [],
   "source": [
    "def init_driver():\n",
    "    service = Service(driver_path)\n",
    "    chrome_options = Options()\n",
    "    chrome_options.add_argument('--headless')\n",
    "    chrome_options.add_argument('--no-sandbox')\n",
    "    chrome_options.add_argument('--disable-dev-shm-usage')\n",
    "    chrome_options.add_experimental_option('excludeSwitches', ['enable-logging'])\n",
    "    prefs = {\"profile.managed_default_content_settings.images\": 2, 'permissions.default.stylesheet': 2}\n",
    "    chrome_options.add_experimental_option(\"prefs\", prefs)\n",
    "    chrome_options.add_argument('lang=zh_CN.utf-8')\n",
    "    driver = webdriver.Chrome(service=service, options=chrome_options)\n",
    "    return driver"
   ]
  },
  {
   "cell_type": "code",
   "execution_count": 3,
   "metadata": {},
   "outputs": [],
   "source": [
    "def get_model_year(year):\n",
    "    \"\"\"\n",
    "    Get model sales data of one year.\n",
    "    \"\"\"\n",
    "    url = 'https://xl.16888.com/style-%d01-%d12-1.html' % (year, year)\n",
    "\n",
    "    driver = init_driver()\n",
    "\n",
    "    try:\n",
    "        driver.get(url)\n",
    "    except:\n",
    "        print(\"No Data.\")\n",
    "    wait = WebDriverWait(driver, 10)\n",
    "\n",
    "    # define data file\n",
    "    data = []\n",
    "    page = 1\n",
    "    # iterate pages\n",
    "    while True:\n",
    "\n",
    "        # get items\n",
    "        table = driver.find_element(By.CSS_SELECTOR, 'body > div:nth-child(5) > div.xl-section.clr > div.xl-section-r.fr > div > div.xl-table-view > div.xl-table-data > table > tbody')\n",
    "        rows = table.find_elements(By.TAG_NAME, 'tr')\n",
    "        for row in rows:\n",
    "            # sales data\n",
    "            cells = row.find_elements(By.TAG_NAME, 'td')\n",
    "            line = [cell.text for cell in cells[:-1]]\n",
    "            if line:\n",
    "                model = line[1]\n",
    "                sale = line[2]\n",
    "                data.append([model, sale])\n",
    "        \n",
    "        page += 1\n",
    "        \n",
    "        try:\n",
    "            # wait for next page botton\n",
    "            next_page = wait.until(EC.element_to_be_clickable((By.CSS_SELECTOR, 'a.lineBlock.next')))\n",
    "            # click next page\n",
    "            next_page.click()\n",
    "            # wait for next page\n",
    "            wait.until(EC.staleness_of(next_page))\n",
    "        except:\n",
    "            print('All pages done!')\n",
    "            break\n",
    "    driver.close()\n",
    "    \n",
    "    df = pd.DataFrame(data, columns=['model', 'sales'])\n",
    "    df['class'] = None\n",
    "    df['fuel'] = None\n",
    "    df['weight'] = None\n",
    "    df['frontB'] = None\n",
    "    df['rearB'] = None\n",
    "    df['link'] = None\n",
    "\n",
    "    return df"
   ]
  },
  {
   "cell_type": "code",
   "execution_count": 4,
   "metadata": {},
   "outputs": [],
   "source": [
    "def get_model_link(df):\n",
    "    url = 'https://auto.16888.com/'\n",
    "    driver = init_driver()\n",
    "    try:\n",
    "        driver.get(url)\n",
    "    except:\n",
    "        print(\"No Data.\")\n",
    "    wait = WebDriverWait(driver, 10)\n",
    "    for i in tqdm(range(df.shape[0])):\n",
    "        # get link\n",
    "        line = df.loc[i]\n",
    "        try:\n",
    "            link = driver.find_element(By.LINK_TEXT, line['model'])\n",
    "            link = link.get_attribute('href')\n",
    "            df.loc[i, 'link'] = link\n",
    "        except:\n",
    "            pass\n",
    "    driver.close()\n",
    "    return df"
   ]
  },
  {
   "cell_type": "code",
   "execution_count": 5,
   "metadata": {},
   "outputs": [],
   "source": [
    "def get_model_config(df, year):\n",
    "    df['year'] = year\n",
    "\n",
    "    # initialize driver\n",
    "    for i in tqdm(range(df.shape[0])):\n",
    "        link = df.loc[i, 'link']\n",
    "        if link:\n",
    "            n = 0\n",
    "            while True:\n",
    "                n += 1\n",
    "                try:\n",
    "                    driver = init_driver()\n",
    "                    driver.get(link)\n",
    "                    break\n",
    "                except:\n",
    "                    if n <= 10:\n",
    "                        print(\"Create driver failed. Retry...\")\n",
    "                    else:\n",
    "                        break\n",
    "            if n > 10:\n",
    "                continue\n",
    "        else:\n",
    "            continue\n",
    "        \n",
    "        # get config data\n",
    "        try:\n",
    "            link = driver.find_element(By.LINK_TEXT, '参数配置')\n",
    "            link.click()\n",
    "        except:\n",
    "            continue\n",
    "\n",
    "        # select a year\n",
    "        find_status = 0\n",
    "        for y in list(range(year, 2025, 1)):\n",
    "            try:\n",
    "                type_year = driver.find_element(By.XPATH, '//*[@id=\"Year%d\"]' % y) \n",
    "                type_year.click()\n",
    "                find_status = 1\n",
    "                break\n",
    "            except:\n",
    "                pass\n",
    "        if find_status == 0:\n",
    "            for y in list(range(year, 2000, -1)):\n",
    "                try:\n",
    "                    type_year = driver.find_element(By.XPATH, '//*[@id=\"Year%d\"]' % y) \n",
    "                    type_year.click()\n",
    "                    find_status = 1\n",
    "                    break\n",
    "                except:\n",
    "                    pass\n",
    "        if find_status == 1:\n",
    "            config_table = driver.find_element(By.ID, 'config_main')  # data table\n",
    "            config_data = config_table.text\n",
    "            # config data extraction\n",
    "            config_data = config_data.split('\\n')\n",
    "            car_class = config_data[5].split()[1:]\n",
    "            fuel_type = config_data[49].split()[1:]\n",
    "            weight = config_data[26].split()[1:]\n",
    "            front_brake = config_data[66].split()[1:]\n",
    "            rear_brake = config_data[67].split()[1:]\n",
    "            # save\n",
    "            df.loc[i, 'fuel'] = str(fuel_type)\n",
    "            df.loc[i, 'class'] = str(car_class)\n",
    "            df.loc[i, 'weight'] = str(weight)\n",
    "            df.loc[i, 'frontB'] = str(front_brake)\n",
    "            df.loc[i, 'rearB'] = str(rear_brake)\n",
    "        else:\n",
    "            pass\n",
    "        driver.close()\n",
    "    return df"
   ]
  },
  {
   "cell_type": "code",
   "execution_count": 6,
   "metadata": {},
   "outputs": [],
   "source": [
    "def get_sales(year):\n",
    "    df = get_model_year(year)\n",
    "    df = get_model_link(df)\n",
    "    df = get_model_config(df, year)\n",
    "    return df"
   ]
  },
  {
   "cell_type": "code",
   "execution_count": 7,
   "metadata": {},
   "outputs": [
    {
     "name": "stdout",
     "output_type": "stream",
     "text": [
      "All pages done!\n"
     ]
    },
    {
     "name": "stderr",
     "output_type": "stream",
     "text": [
      "0it [00:00, ?it/s]\n",
      "0it [00:00, ?it/s]\n"
     ]
    },
    {
     "name": "stdout",
     "output_type": "stream",
     "text": [
      "All pages done!\n"
     ]
    },
    {
     "name": "stderr",
     "output_type": "stream",
     "text": [
      "0it [00:00, ?it/s]\n",
      "0it [00:00, ?it/s]\n"
     ]
    },
    {
     "name": "stdout",
     "output_type": "stream",
     "text": [
      "All pages done!\n"
     ]
    },
    {
     "name": "stderr",
     "output_type": "stream",
     "text": [
      "0it [00:00, ?it/s]\n",
      "0it [00:00, ?it/s]\n"
     ]
    },
    {
     "name": "stdout",
     "output_type": "stream",
     "text": [
      "All pages done!\n"
     ]
    },
    {
     "name": "stderr",
     "output_type": "stream",
     "text": [
      "0it [00:00, ?it/s]\n",
      "0it [00:00, ?it/s]\n"
     ]
    },
    {
     "name": "stdout",
     "output_type": "stream",
     "text": [
      "All pages done!\n"
     ]
    },
    {
     "name": "stderr",
     "output_type": "stream",
     "text": [
      "0it [00:00, ?it/s]\n",
      "0it [00:00, ?it/s]\n"
     ]
    },
    {
     "name": "stdout",
     "output_type": "stream",
     "text": [
      "All pages done!\n"
     ]
    },
    {
     "name": "stderr",
     "output_type": "stream",
     "text": [
      "0it [00:00, ?it/s]\n",
      "0it [00:00, ?it/s]\n"
     ]
    },
    {
     "name": "stdout",
     "output_type": "stream",
     "text": [
      "All pages done!\n"
     ]
    },
    {
     "name": "stderr",
     "output_type": "stream",
     "text": [
      "0it [00:00, ?it/s]\n",
      "0it [00:00, ?it/s]\n"
     ]
    },
    {
     "name": "stdout",
     "output_type": "stream",
     "text": [
      "All pages done!\n"
     ]
    },
    {
     "name": "stderr",
     "output_type": "stream",
     "text": [
      "100%|██████████| 95/95 [01:01<00:00,  1.55it/s]\n",
      "100%|██████████| 95/95 [07:42<00:00,  4.87s/it]\n"
     ]
    },
    {
     "name": "stdout",
     "output_type": "stream",
     "text": [
      "All pages done!\n"
     ]
    },
    {
     "name": "stderr",
     "output_type": "stream",
     "text": [
      "100%|██████████| 114/114 [01:28<00:00,  1.29it/s]\n",
      "100%|██████████| 114/114 [09:19<00:00,  4.91s/it]\n"
     ]
    },
    {
     "name": "stdout",
     "output_type": "stream",
     "text": [
      "All pages done!\n"
     ]
    },
    {
     "name": "stderr",
     "output_type": "stream",
     "text": [
      "100%|██████████| 132/132 [02:07<00:00,  1.04it/s]\n",
      " 25%|██▌       | 33/132 [02:37<08:35,  5.21s/it]"
     ]
    },
    {
     "name": "stdout",
     "output_type": "stream",
     "text": [
      "Create driver failed. Retry...\n"
     ]
    },
    {
     "name": "stderr",
     "output_type": "stream",
     "text": [
      "100%|██████████| 132/132 [13:00<00:00,  5.91s/it]\n"
     ]
    },
    {
     "name": "stdout",
     "output_type": "stream",
     "text": [
      "All pages done!\n"
     ]
    },
    {
     "name": "stderr",
     "output_type": "stream",
     "text": [
      "100%|██████████| 174/174 [02:22<00:00,  1.22it/s]\n",
      "100%|██████████| 174/174 [18:20<00:00,  6.33s/it]\n"
     ]
    },
    {
     "name": "stdout",
     "output_type": "stream",
     "text": [
      "All pages done!\n"
     ]
    },
    {
     "name": "stderr",
     "output_type": "stream",
     "text": [
      "100%|██████████| 212/212 [03:10<00:00,  1.11it/s]\n",
      " 92%|█████████▏| 194/212 [23:24<01:13,  4.09s/it]"
     ]
    },
    {
     "name": "stdout",
     "output_type": "stream",
     "text": [
      "Create driver failed. Retry...\n"
     ]
    },
    {
     "name": "stderr",
     "output_type": "stream",
     "text": [
      "100%|██████████| 212/212 [26:43<00:00,  7.56s/it]\n"
     ]
    },
    {
     "name": "stdout",
     "output_type": "stream",
     "text": [
      "All pages done!\n"
     ]
    },
    {
     "name": "stderr",
     "output_type": "stream",
     "text": [
      "100%|██████████| 257/257 [04:00<00:00,  1.07it/s]\n",
      "100%|██████████| 257/257 [26:28<00:00,  6.18s/it]\n"
     ]
    },
    {
     "name": "stdout",
     "output_type": "stream",
     "text": [
      "All pages done!\n"
     ]
    },
    {
     "name": "stderr",
     "output_type": "stream",
     "text": [
      "100%|██████████| 312/312 [04:32<00:00,  1.14it/s]\n",
      "100%|██████████| 312/312 [26:09<00:00,  5.03s/it]\n"
     ]
    },
    {
     "name": "stdout",
     "output_type": "stream",
     "text": [
      "All pages done!\n"
     ]
    },
    {
     "name": "stderr",
     "output_type": "stream",
     "text": [
      "100%|██████████| 373/373 [05:43<00:00,  1.09it/s]\n",
      "100%|██████████| 373/373 [30:16<00:00,  4.87s/it]\n"
     ]
    }
   ],
   "source": [
    "for year in range(2000,2015,1):\n",
    "    try:\n",
    "        sales = get_model_year(int(year))\n",
    "        sales = get_model_link(sales)\n",
    "        sales = get_model_config(sales, int(year))\n",
    "        sales.to_excel(\"data/car_sale_%d.xlsx\" % year, index=False)\n",
    "    except:\n",
    "        pass"
   ]
  }
 ],
 "metadata": {
  "kernelspec": {
   "display_name": "crawl",
   "language": "python",
   "name": "python3"
  },
  "language_info": {
   "codemirror_mode": {
    "name": "ipython",
    "version": 3
   },
   "file_extension": ".py",
   "mimetype": "text/x-python",
   "name": "python",
   "nbconvert_exporter": "python",
   "pygments_lexer": "ipython3",
   "version": "3.9.19"
  }
 },
 "nbformat": 4,
 "nbformat_minor": 2
}
