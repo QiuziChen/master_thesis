{
 "cells": [
  {
   "cell_type": "markdown",
   "metadata": {},
   "source": [
    "# Trajectory Processing\n",
    "\n",
    "---"
   ]
  },
  {
   "cell_type": "code",
   "execution_count": 1,
   "metadata": {},
   "outputs": [],
   "source": [
    "# dependent packages\n",
    "import pandas as pd\n",
    "from preprocessing import Preprocess"
   ]
  },
  {
   "cell_type": "markdown",
   "metadata": {},
   "source": [
    "# 1 Preprocessing\n",
    "\n",
    "The preprocessing precedure including five steps:\n",
    "1. Encoding.\n",
    "2. Trip segmentation.\n",
    "3. Densification.\n",
    "4. Calculation.\n",
    "5. Smoothing.\n",
    "6. Filtering.\n",
    "\n",
    "All methods are packed in class `Preprocess` in the module `preprocessing`.  \n",
    "> - Map-matching is not included in this section. Instead, we stored it in a seperate module `mapmatch` to avoid environment conflict.\n",
    "> - Due to the data privacy, we can only provide processing procedure with limited samples."
   ]
  },
  {
   "cell_type": "markdown",
   "metadata": {},
   "source": [
    "## 1.1 Encoding"
   ]
  },
  {
   "cell_type": "markdown",
   "metadata": {},
   "source": [
    "Encoding is performed by the function `Preprocess.encode`. In the encoding function, the following operations are supported:\n",
    "- Set column names.\n",
    "- Encoding strings as ascending numbers, *e.g.* `vehID` and `orderID`.\n",
    "- CRS transferring, note that all calculation in this module is based on **WGS84**.\n",
    "- Sorting by some columns."
   ]
  },
  {
   "cell_type": "code",
   "execution_count": 2,
   "metadata": {},
   "outputs": [
    {
     "data": {
      "text/html": [
       "<div>\n",
       "<style scoped>\n",
       "    .dataframe tbody tr th:only-of-type {\n",
       "        vertical-align: middle;\n",
       "    }\n",
       "\n",
       "    .dataframe tbody tr th {\n",
       "        vertical-align: top;\n",
       "    }\n",
       "\n",
       "    .dataframe thead th {\n",
       "        text-align: right;\n",
       "    }\n",
       "</style>\n",
       "<table border=\"1\" class=\"dataframe\">\n",
       "  <thead>\n",
       "    <tr style=\"text-align: right;\">\n",
       "      <th></th>\n",
       "      <th>0</th>\n",
       "      <th>1</th>\n",
       "      <th>2</th>\n",
       "      <th>3</th>\n",
       "      <th>4</th>\n",
       "    </tr>\n",
       "  </thead>\n",
       "  <tbody>\n",
       "    <tr>\n",
       "      <th>0</th>\n",
       "      <td>9j22fi9gb62rB4luAgce49ahegf_qBbg</td>\n",
       "      <td>4da2cfjf443wB5eDp6b34honega1xx6n</td>\n",
       "      <td>1477969147</td>\n",
       "      <td>104.07513</td>\n",
       "      <td>30.72724</td>\n",
       "    </tr>\n",
       "    <tr>\n",
       "      <th>1</th>\n",
       "      <td>9j22fi9gb62rB4luAgce49ahegf_qBbg</td>\n",
       "      <td>4da2cfjf443wB5eDp6b34honega1xx6n</td>\n",
       "      <td>1477969150</td>\n",
       "      <td>104.07513</td>\n",
       "      <td>30.72702</td>\n",
       "    </tr>\n",
       "    <tr>\n",
       "      <th>2</th>\n",
       "      <td>9j22fi9gb62rB4luAgce49ahegf_qBbg</td>\n",
       "      <td>4da2cfjf443wB5eDp6b34honega1xx6n</td>\n",
       "      <td>1477969154</td>\n",
       "      <td>104.07504</td>\n",
       "      <td>30.72672</td>\n",
       "    </tr>\n",
       "    <tr>\n",
       "      <th>3</th>\n",
       "      <td>9j22fi9gb62rB4luAgce49ahegf_qBbg</td>\n",
       "      <td>4da2cfjf443wB5eDp6b34honega1xx6n</td>\n",
       "      <td>1477969156</td>\n",
       "      <td>104.07497</td>\n",
       "      <td>30.72630</td>\n",
       "    </tr>\n",
       "    <tr>\n",
       "      <th>4</th>\n",
       "      <td>9j22fi9gb62rB4luAgce49ahegf_qBbg</td>\n",
       "      <td>4da2cfjf443wB5eDp6b34honega1xx6n</td>\n",
       "      <td>1477969159</td>\n",
       "      <td>104.07497</td>\n",
       "      <td>30.72582</td>\n",
       "    </tr>\n",
       "  </tbody>\n",
       "</table>\n",
       "</div>"
      ],
      "text/plain": [
       "                                  0                                 1   \n",
       "0  9j22fi9gb62rB4luAgce49ahegf_qBbg  4da2cfjf443wB5eDp6b34honega1xx6n  \\\n",
       "1  9j22fi9gb62rB4luAgce49ahegf_qBbg  4da2cfjf443wB5eDp6b34honega1xx6n   \n",
       "2  9j22fi9gb62rB4luAgce49ahegf_qBbg  4da2cfjf443wB5eDp6b34honega1xx6n   \n",
       "3  9j22fi9gb62rB4luAgce49ahegf_qBbg  4da2cfjf443wB5eDp6b34honega1xx6n   \n",
       "4  9j22fi9gb62rB4luAgce49ahegf_qBbg  4da2cfjf443wB5eDp6b34honega1xx6n   \n",
       "\n",
       "            2          3         4  \n",
       "0  1477969147  104.07513  30.72724  \n",
       "1  1477969150  104.07513  30.72702  \n",
       "2  1477969154  104.07504  30.72672  \n",
       "3  1477969156  104.07497  30.72630  \n",
       "4  1477969159  104.07497  30.72582  "
      ]
     },
     "execution_count": 2,
     "metadata": {},
     "output_type": "execute_result"
    }
   ],
   "source": [
    "raw = pd.read_csv(\"./data/traj/sample_raw.csv\")\n",
    "raw.head()"
   ]
  },
  {
   "cell_type": "code",
   "execution_count": 3,
   "metadata": {},
   "outputs": [
    {
     "name": "stdout",
     "output_type": "stream",
     "text": [
      "Encoding...\n"
     ]
    },
    {
     "data": {
      "text/html": [
       "<div>\n",
       "<style scoped>\n",
       "    .dataframe tbody tr th:only-of-type {\n",
       "        vertical-align: middle;\n",
       "    }\n",
       "\n",
       "    .dataframe tbody tr th {\n",
       "        vertical-align: top;\n",
       "    }\n",
       "\n",
       "    .dataframe thead th {\n",
       "        text-align: right;\n",
       "    }\n",
       "</style>\n",
       "<table border=\"1\" class=\"dataframe\">\n",
       "  <thead>\n",
       "    <tr style=\"text-align: right;\">\n",
       "      <th></th>\n",
       "      <th>vehID</th>\n",
       "      <th>orderID</th>\n",
       "      <th>time[s]</th>\n",
       "      <th>lon</th>\n",
       "      <th>lat</th>\n",
       "    </tr>\n",
       "  </thead>\n",
       "  <tbody>\n",
       "    <tr>\n",
       "      <th>0</th>\n",
       "      <td>0</td>\n",
       "      <td>0</td>\n",
       "      <td>1477969147</td>\n",
       "      <td>104.072604</td>\n",
       "      <td>30.729620</td>\n",
       "    </tr>\n",
       "    <tr>\n",
       "      <th>1</th>\n",
       "      <td>0</td>\n",
       "      <td>0</td>\n",
       "      <td>1477969150</td>\n",
       "      <td>104.072604</td>\n",
       "      <td>30.729401</td>\n",
       "    </tr>\n",
       "    <tr>\n",
       "      <th>2</th>\n",
       "      <td>0</td>\n",
       "      <td>0</td>\n",
       "      <td>1477969154</td>\n",
       "      <td>104.072514</td>\n",
       "      <td>30.729101</td>\n",
       "    </tr>\n",
       "    <tr>\n",
       "      <th>3</th>\n",
       "      <td>0</td>\n",
       "      <td>0</td>\n",
       "      <td>1477969156</td>\n",
       "      <td>104.072444</td>\n",
       "      <td>30.728681</td>\n",
       "    </tr>\n",
       "    <tr>\n",
       "      <th>4</th>\n",
       "      <td>0</td>\n",
       "      <td>0</td>\n",
       "      <td>1477969159</td>\n",
       "      <td>104.072444</td>\n",
       "      <td>30.728201</td>\n",
       "    </tr>\n",
       "  </tbody>\n",
       "</table>\n",
       "</div>"
      ],
      "text/plain": [
       "   vehID  orderID     time[s]         lon        lat\n",
       "0      0        0  1477969147  104.072604  30.729620\n",
       "1      0        0  1477969150  104.072604  30.729401\n",
       "2      0        0  1477969154  104.072514  30.729101\n",
       "3      0        0  1477969156  104.072444  30.728681\n",
       "4      0        0  1477969159  104.072444  30.728201"
      ]
     },
     "execution_count": 3,
     "metadata": {},
     "output_type": "execute_result"
    }
   ],
   "source": [
    "# initialize a Preprocess object\n",
    "preprocessor = Preprocess()\n",
    "\n",
    "# set encode params\n",
    "preprocessor.setParam(\n",
    "    funcName='encode',\n",
    "    paramDict={\n",
    "        \"colName\": ['vehID', 'orderID', 'time[s]', 'lon', 'lat'],\n",
    "        \"encodingCol\": ['vehID', 'orderID'],\n",
    "        \"sortBy\": ['vehID', 'orderID', 'time[s]'],\n",
    "        \"originCRS\": 'GCJ02',\n",
    "    }\n",
    ")\n",
    "\n",
    "# perform encoding\n",
    "traj_encoded = preprocessor.encode(raw)\n",
    "traj_encoded.head()"
   ]
  },
  {
   "cell_type": "markdown",
   "metadata": {},
   "source": [
    "## 1.2 Segmentation"
   ]
  },
  {
   "cell_type": "markdown",
   "metadata": {},
   "source": [
    "There exist some missing points in a trajectory of a trip, which bring difficulty to the inference of the complete trajctory. Therefore, we divided sequences in the same order at intervals with missing duration longer than a certain length.  \n",
    "\n",
    "Segmentation is performed by the function `Preprocess.segment`. The default maximum missing interval is set to 6 sec cause it represents a missing of more than two samples (the sampling frequency is 2 to 4 sec)."
   ]
  },
  {
   "cell_type": "code",
   "execution_count": 4,
   "metadata": {},
   "outputs": [
    {
     "name": "stdout",
     "output_type": "stream",
     "text": [
      "Segmenting...\n",
      "- segmented trip amount: 12.\n"
     ]
    },
    {
     "data": {
      "text/html": [
       "<div>\n",
       "<style scoped>\n",
       "    .dataframe tbody tr th:only-of-type {\n",
       "        vertical-align: middle;\n",
       "    }\n",
       "\n",
       "    .dataframe tbody tr th {\n",
       "        vertical-align: top;\n",
       "    }\n",
       "\n",
       "    .dataframe thead th {\n",
       "        text-align: right;\n",
       "    }\n",
       "</style>\n",
       "<table border=\"1\" class=\"dataframe\">\n",
       "  <thead>\n",
       "    <tr style=\"text-align: right;\">\n",
       "      <th></th>\n",
       "      <th>vehID</th>\n",
       "      <th>orderID</th>\n",
       "      <th>time[s]</th>\n",
       "      <th>lon</th>\n",
       "      <th>lat</th>\n",
       "      <th>tripID</th>\n",
       "    </tr>\n",
       "  </thead>\n",
       "  <tbody>\n",
       "    <tr>\n",
       "      <th>0</th>\n",
       "      <td>0</td>\n",
       "      <td>0</td>\n",
       "      <td>1477969147</td>\n",
       "      <td>104.072604</td>\n",
       "      <td>30.729620</td>\n",
       "      <td>0</td>\n",
       "    </tr>\n",
       "    <tr>\n",
       "      <th>1</th>\n",
       "      <td>0</td>\n",
       "      <td>0</td>\n",
       "      <td>1477969150</td>\n",
       "      <td>104.072604</td>\n",
       "      <td>30.729401</td>\n",
       "      <td>0</td>\n",
       "    </tr>\n",
       "    <tr>\n",
       "      <th>2</th>\n",
       "      <td>0</td>\n",
       "      <td>0</td>\n",
       "      <td>1477969154</td>\n",
       "      <td>104.072514</td>\n",
       "      <td>30.729101</td>\n",
       "      <td>0</td>\n",
       "    </tr>\n",
       "    <tr>\n",
       "      <th>3</th>\n",
       "      <td>0</td>\n",
       "      <td>0</td>\n",
       "      <td>1477969156</td>\n",
       "      <td>104.072444</td>\n",
       "      <td>30.728681</td>\n",
       "      <td>0</td>\n",
       "    </tr>\n",
       "    <tr>\n",
       "      <th>4</th>\n",
       "      <td>0</td>\n",
       "      <td>0</td>\n",
       "      <td>1477969159</td>\n",
       "      <td>104.072444</td>\n",
       "      <td>30.728201</td>\n",
       "      <td>0</td>\n",
       "    </tr>\n",
       "  </tbody>\n",
       "</table>\n",
       "</div>"
      ],
      "text/plain": [
       "   vehID  orderID     time[s]         lon        lat  tripID\n",
       "0      0        0  1477969147  104.072604  30.729620       0\n",
       "1      0        0  1477969150  104.072604  30.729401       0\n",
       "2      0        0  1477969154  104.072514  30.729101       0\n",
       "3      0        0  1477969156  104.072444  30.728681       0\n",
       "4      0        0  1477969159  104.072444  30.728201       0"
      ]
     },
     "execution_count": 4,
     "metadata": {},
     "output_type": "execute_result"
    }
   ],
   "source": [
    "# set segmentation params\n",
    "preprocessor.setParam(\n",
    "    funcName='segment',\n",
    "    paramDict={\n",
    "        \"interval\": True,\n",
    "        \"segRefCol\": True,\n",
    "        \"segRefCol\": 'orderID',\n",
    "        \"timeCol\": 'time[s]',\n",
    "        \"tripIDColName\": 'tripID',\n",
    "        \"maxInterval\": 6,\n",
    "    }\n",
    ")\n",
    "\n",
    "# perform segmentation\n",
    "traj_segmented = preprocessor.segment(traj_encoded)\n",
    "traj_segmented.head()"
   ]
  },
  {
   "cell_type": "markdown",
   "metadata": {},
   "source": [
    "## 1.3 Densification"
   ]
  },
  {
   "cell_type": "markdown",
   "metadata": {},
   "source": [
    "Densification is performed by the function `Preprocess.densify` for each trip. The default densification is the cubic spline interpotation."
   ]
  },
  {
   "cell_type": "code",
   "execution_count": 5,
   "metadata": {},
   "outputs": [
    {
     "name": "stderr",
     "output_type": "stream",
     "text": [
      "Densifying: 100%|██████████| 12/12 [00:00<00:00, 25.67it/s]"
     ]
    },
    {
     "name": "stdout",
     "output_type": "stream",
     "text": [
      "- densified length: 3050;\n",
      "- densified ratio: 305.00%.\n"
     ]
    },
    {
     "name": "stderr",
     "output_type": "stream",
     "text": [
      "\n"
     ]
    }
   ],
   "source": [
    "# set densify params\n",
    "preprocessor.setParam(\n",
    "    funcName='densify',\n",
    "    paramDict={\n",
    "        \"timeCol\": 'time[s]',\n",
    "        \"tripIDCol\": 'tripID',\n",
    "        \"interpFunc\": 'cubic',\n",
    "    }\n",
    ")\n",
    "\n",
    "# perform densification\n",
    "traj_densified = preprocessor.densify(traj_segmented)"
   ]
  },
  {
   "cell_type": "markdown",
   "metadata": {},
   "source": [
    "## 1.4 Calculation"
   ]
  },
  {
   "cell_type": "markdown",
   "metadata": {},
   "source": [
    "Calculation is performed by the function `Preprocess.calParam`. The following parameters will be calculated:\n",
    "\n",
    "- Speed [km/h].\n",
    "- Acceleration [m/s$^2$].\n",
    "- Road grade [Degree].\n",
    "- VSP [kW/t]\n",
    "\n",
    "> Notes:\n",
    "> 1. Currently this module only support road grade from DEM files. Automative online extraction will be developed in the future. If `demPath=None`, the road grade will be assumed 0.\n",
    "> 2. Calculation of VSP is only available for light-duty vehicles (LDVs)."
   ]
  },
  {
   "cell_type": "code",
   "execution_count": 6,
   "metadata": {},
   "outputs": [
    {
     "name": "stdout",
     "output_type": "stream",
     "text": [
      "Calculating...\n"
     ]
    },
    {
     "data": {
      "text/html": [
       "<div>\n",
       "<style scoped>\n",
       "    .dataframe tbody tr th:only-of-type {\n",
       "        vertical-align: middle;\n",
       "    }\n",
       "\n",
       "    .dataframe tbody tr th {\n",
       "        vertical-align: top;\n",
       "    }\n",
       "\n",
       "    .dataframe thead th {\n",
       "        text-align: right;\n",
       "    }\n",
       "</style>\n",
       "<table border=\"1\" class=\"dataframe\">\n",
       "  <thead>\n",
       "    <tr style=\"text-align: right;\">\n",
       "      <th></th>\n",
       "      <th>vehID</th>\n",
       "      <th>orderID</th>\n",
       "      <th>tripID</th>\n",
       "      <th>time[s]</th>\n",
       "      <th>lon</th>\n",
       "      <th>lat</th>\n",
       "      <th>dist[km]</th>\n",
       "      <th>interval[s]</th>\n",
       "      <th>speed[km/h]</th>\n",
       "      <th>acc[m/s2]</th>\n",
       "      <th>ele[m]</th>\n",
       "      <th>grade[D]</th>\n",
       "      <th>VSP[kW/t]</th>\n",
       "    </tr>\n",
       "  </thead>\n",
       "  <tbody>\n",
       "    <tr>\n",
       "      <th>0</th>\n",
       "      <td>0.0</td>\n",
       "      <td>0.0</td>\n",
       "      <td>0.0</td>\n",
       "      <td>1.477969e+09</td>\n",
       "      <td>104.072604</td>\n",
       "      <td>30.729620</td>\n",
       "      <td>0.012770</td>\n",
       "      <td>1.0</td>\n",
       "      <td>45.971886</td>\n",
       "      <td>-5.385921</td>\n",
       "      <td>468.0</td>\n",
       "      <td>0.0</td>\n",
       "      <td>-66.539696</td>\n",
       "    </tr>\n",
       "    <tr>\n",
       "      <th>1</th>\n",
       "      <td>0.0</td>\n",
       "      <td>0.0</td>\n",
       "      <td>0.0</td>\n",
       "      <td>1.477969e+09</td>\n",
       "      <td>104.072609</td>\n",
       "      <td>30.729506</td>\n",
       "      <td>0.007384</td>\n",
       "      <td>1.0</td>\n",
       "      <td>26.582569</td>\n",
       "      <td>-3.017187</td>\n",
       "      <td>468.0</td>\n",
       "      <td>0.0</td>\n",
       "      <td>-21.301853</td>\n",
       "    </tr>\n",
       "    <tr>\n",
       "      <th>2</th>\n",
       "      <td>0.0</td>\n",
       "      <td>0.0</td>\n",
       "      <td>0.0</td>\n",
       "      <td>1.477969e+09</td>\n",
       "      <td>104.072610</td>\n",
       "      <td>30.729439</td>\n",
       "      <td>0.004367</td>\n",
       "      <td>1.0</td>\n",
       "      <td>15.720697</td>\n",
       "      <td>-0.583657</td>\n",
       "      <td>468.0</td>\n",
       "      <td>0.0</td>\n",
       "      <td>-2.039436</td>\n",
       "    </tr>\n",
       "    <tr>\n",
       "      <th>3</th>\n",
       "      <td>0.0</td>\n",
       "      <td>0.0</td>\n",
       "      <td>0.0</td>\n",
       "      <td>1.477969e+09</td>\n",
       "      <td>104.072604</td>\n",
       "      <td>30.729401</td>\n",
       "      <td>0.003783</td>\n",
       "      <td>1.0</td>\n",
       "      <td>13.619533</td>\n",
       "      <td>1.725009</td>\n",
       "      <td>468.0</td>\n",
       "      <td>0.0</td>\n",
       "      <td>6.958423</td>\n",
       "    </tr>\n",
       "    <tr>\n",
       "      <th>4</th>\n",
       "      <td>0.0</td>\n",
       "      <td>0.0</td>\n",
       "      <td>0.0</td>\n",
       "      <td>1.477969e+09</td>\n",
       "      <td>104.072592</td>\n",
       "      <td>30.729368</td>\n",
       "      <td>0.005508</td>\n",
       "      <td>1.0</td>\n",
       "      <td>19.829565</td>\n",
       "      <td>3.963946</td>\n",
       "      <td>468.0</td>\n",
       "      <td>0.0</td>\n",
       "      <td>22.505531</td>\n",
       "    </tr>\n",
       "  </tbody>\n",
       "</table>\n",
       "</div>"
      ],
      "text/plain": [
       "   vehID  orderID  tripID       time[s]         lon        lat  dist[km]   \n",
       "0    0.0      0.0     0.0  1.477969e+09  104.072604  30.729620  0.012770  \\\n",
       "1    0.0      0.0     0.0  1.477969e+09  104.072609  30.729506  0.007384   \n",
       "2    0.0      0.0     0.0  1.477969e+09  104.072610  30.729439  0.004367   \n",
       "3    0.0      0.0     0.0  1.477969e+09  104.072604  30.729401  0.003783   \n",
       "4    0.0      0.0     0.0  1.477969e+09  104.072592  30.729368  0.005508   \n",
       "\n",
       "   interval[s]  speed[km/h]  acc[m/s2]  ele[m]  grade[D]  VSP[kW/t]  \n",
       "0          1.0    45.971886  -5.385921   468.0       0.0 -66.539696  \n",
       "1          1.0    26.582569  -3.017187   468.0       0.0 -21.301853  \n",
       "2          1.0    15.720697  -0.583657   468.0       0.0  -2.039436  \n",
       "3          1.0    13.619533   1.725009   468.0       0.0   6.958423  \n",
       "4          1.0    19.829565   3.963946   468.0       0.0  22.505531  "
      ]
     },
     "execution_count": 6,
     "metadata": {},
     "output_type": "execute_result"
    }
   ],
   "source": [
    "# DEM path\n",
    "demPath = \"./data/geo/AP_27359_FBS_F0600_RT1.dem.tif\"\n",
    "\n",
    "# set calculate params\n",
    "preprocessor.setParam(\n",
    "    funcName='calculate',\n",
    "    paramDict={\n",
    "        \"demPath\": demPath,\n",
    "        \"tripIDCol\": 'tripID'\n",
    "    }\n",
    ")\n",
    "\n",
    "# perform calculation\n",
    "traj_calculated = preprocessor.calParam(traj_densified)\n",
    "traj_calculated.head()"
   ]
  },
  {
   "cell_type": "markdown",
   "metadata": {},
   "source": [
    "## 1.5 Smoothing"
   ]
  },
  {
   "cell_type": "markdown",
   "metadata": {},
   "source": [
    "Smoothing is performed by function `Preprocess.smooth` for each trip. The default smoothing function is the exponential smoothing. Other smooth function includes:\n",
    "- `exp`: exponentail smoothing\n",
    "- `dexp`: double exponential smoothing\n",
    "- `kal`: Kalman filter smoothing "
   ]
  },
  {
   "cell_type": "code",
   "execution_count": 7,
   "metadata": {},
   "outputs": [
    {
     "name": "stderr",
     "output_type": "stream",
     "text": [
      "Smoothing: 100%|██████████| 11/11 [00:00<00:00, 533.56it/s]\n"
     ]
    },
    {
     "data": {
      "text/html": [
       "<div>\n",
       "<style scoped>\n",
       "    .dataframe tbody tr th:only-of-type {\n",
       "        vertical-align: middle;\n",
       "    }\n",
       "\n",
       "    .dataframe tbody tr th {\n",
       "        vertical-align: top;\n",
       "    }\n",
       "\n",
       "    .dataframe thead th {\n",
       "        text-align: right;\n",
       "    }\n",
       "</style>\n",
       "<table border=\"1\" class=\"dataframe\">\n",
       "  <thead>\n",
       "    <tr style=\"text-align: right;\">\n",
       "      <th></th>\n",
       "      <th>vehID</th>\n",
       "      <th>orderID</th>\n",
       "      <th>tripID</th>\n",
       "      <th>time[s]</th>\n",
       "      <th>lon</th>\n",
       "      <th>lat</th>\n",
       "      <th>dist[km]</th>\n",
       "      <th>interval[s]</th>\n",
       "      <th>speed[km/h]</th>\n",
       "      <th>acc[m/s2]</th>\n",
       "      <th>ele[m]</th>\n",
       "      <th>grade[D]</th>\n",
       "      <th>VSP[kW/t]</th>\n",
       "    </tr>\n",
       "  </thead>\n",
       "  <tbody>\n",
       "    <tr>\n",
       "      <th>0</th>\n",
       "      <td>0.0</td>\n",
       "      <td>0.0</td>\n",
       "      <td>0.0</td>\n",
       "      <td>1.477969e+09</td>\n",
       "      <td>104.072604</td>\n",
       "      <td>30.729620</td>\n",
       "      <td>0.012770</td>\n",
       "      <td>1.0</td>\n",
       "      <td>45.971886</td>\n",
       "      <td>-5.385921</td>\n",
       "      <td>468.0</td>\n",
       "      <td>0.0</td>\n",
       "      <td>-66.539696</td>\n",
       "    </tr>\n",
       "    <tr>\n",
       "      <th>1</th>\n",
       "      <td>0.0</td>\n",
       "      <td>0.0</td>\n",
       "      <td>0.0</td>\n",
       "      <td>1.477969e+09</td>\n",
       "      <td>104.072609</td>\n",
       "      <td>30.729506</td>\n",
       "      <td>0.007384</td>\n",
       "      <td>1.0</td>\n",
       "      <td>32.399364</td>\n",
       "      <td>-3.727807</td>\n",
       "      <td>468.0</td>\n",
       "      <td>0.0</td>\n",
       "      <td>-34.873207</td>\n",
       "    </tr>\n",
       "    <tr>\n",
       "      <th>2</th>\n",
       "      <td>0.0</td>\n",
       "      <td>0.0</td>\n",
       "      <td>0.0</td>\n",
       "      <td>1.477969e+09</td>\n",
       "      <td>104.072610</td>\n",
       "      <td>30.729439</td>\n",
       "      <td>0.004367</td>\n",
       "      <td>1.0</td>\n",
       "      <td>20.724297</td>\n",
       "      <td>-1.526902</td>\n",
       "      <td>468.0</td>\n",
       "      <td>0.0</td>\n",
       "      <td>-11.889567</td>\n",
       "    </tr>\n",
       "    <tr>\n",
       "      <th>3</th>\n",
       "      <td>0.0</td>\n",
       "      <td>0.0</td>\n",
       "      <td>0.0</td>\n",
       "      <td>1.477969e+09</td>\n",
       "      <td>104.072604</td>\n",
       "      <td>30.729401</td>\n",
       "      <td>0.003783</td>\n",
       "      <td>1.0</td>\n",
       "      <td>15.750962</td>\n",
       "      <td>0.749436</td>\n",
       "      <td>468.0</td>\n",
       "      <td>0.0</td>\n",
       "      <td>1.304026</td>\n",
       "    </tr>\n",
       "    <tr>\n",
       "      <th>4</th>\n",
       "      <td>0.0</td>\n",
       "      <td>0.0</td>\n",
       "      <td>0.0</td>\n",
       "      <td>1.477969e+09</td>\n",
       "      <td>104.072592</td>\n",
       "      <td>30.729368</td>\n",
       "      <td>0.005508</td>\n",
       "      <td>1.0</td>\n",
       "      <td>18.605984</td>\n",
       "      <td>2.999593</td>\n",
       "      <td>468.0</td>\n",
       "      <td>0.0</td>\n",
       "      <td>16.145081</td>\n",
       "    </tr>\n",
       "  </tbody>\n",
       "</table>\n",
       "</div>"
      ],
      "text/plain": [
       "   vehID  orderID  tripID       time[s]         lon        lat  dist[km]   \n",
       "0    0.0      0.0     0.0  1.477969e+09  104.072604  30.729620  0.012770  \\\n",
       "1    0.0      0.0     0.0  1.477969e+09  104.072609  30.729506  0.007384   \n",
       "2    0.0      0.0     0.0  1.477969e+09  104.072610  30.729439  0.004367   \n",
       "3    0.0      0.0     0.0  1.477969e+09  104.072604  30.729401  0.003783   \n",
       "4    0.0      0.0     0.0  1.477969e+09  104.072592  30.729368  0.005508   \n",
       "\n",
       "   interval[s]  speed[km/h]  acc[m/s2]  ele[m]  grade[D]  VSP[kW/t]  \n",
       "0          1.0    45.971886  -5.385921   468.0       0.0 -66.539696  \n",
       "1          1.0    32.399364  -3.727807   468.0       0.0 -34.873207  \n",
       "2          1.0    20.724297  -1.526902   468.0       0.0 -11.889567  \n",
       "3          1.0    15.750962   0.749436   468.0       0.0   1.304026  \n",
       "4          1.0    18.605984   2.999593   468.0       0.0  16.145081  "
      ]
     },
     "execution_count": 7,
     "metadata": {},
     "output_type": "execute_result"
    }
   ],
   "source": [
    "# set smooth params\n",
    "preprocessor.setParam(\n",
    "    funcName='smooth',\n",
    "    paramDict={\n",
    "        \"smoothCol\": ['speed[km/h]', 'acc[m/s2]', 'VSP[kW/t]'],\n",
    "        \"tripIDCol\": \"tripID\",\n",
    "        \"smoothFunc\": 'exp',\n",
    "    }\n",
    ")\n",
    "\n",
    "# perform smoothing\n",
    "traj_smoothed = preprocessor.smooth(traj_calculated)\n",
    "traj_smoothed.head()"
   ]
  },
  {
   "cell_type": "code",
   "execution_count": 8,
   "metadata": {},
   "outputs": [
    {
     "data": {
      "image/png": "[encoded data removed]",
      "text/plain": [
       "<Figure size 600x200 with 1 Axes>"
      ]
     },
     "metadata": {},
     "output_type": "display_data"
    }
   ],
   "source": [
    "import matplotlib.pyplot as plt\n",
    "fig = plt.figure(figsize=(6,2))\n",
    "trip_calculated = traj_calculated[traj_calculated['tripID'] == 0].copy()\n",
    "trip_smoothed = traj_smoothed[traj_smoothed['tripID'] == 0].copy()\n",
    "plt.plot(trip_calculated['time[s]'], trip_calculated['speed[km/h]'], label='Old', alpha=0.5)\n",
    "plt.plot(trip_smoothed['time[s]'], trip_smoothed['speed[km/h]'], label='New', alpha=0.5)\n",
    "plt.xlabel(\"Speed [km/h]\")\n",
    "plt.legend()\n",
    "plt.show()"
   ]
  },
  {
   "cell_type": "markdown",
   "metadata": {},
   "source": [
    "## 1.6 Filtering"
   ]
  },
  {
   "cell_type": "markdown",
   "metadata": {},
   "source": [
    "Filtering is performed by the function `Preprocess.filter` which filters redundancy and samples exceeding a range of speed, acceleration and VSP.\n",
    "- The default speed range is set to `[0, 150]` km/h.\n",
    "- The default acc range is set to `[-4.4704, 6.25856]` m/s$^2$ ([-10, 10] mph/s).\n",
    "- The default VSP range is set to `[-47.5, 62.5]` kW/t."
   ]
  },
  {
   "cell_type": "code",
   "execution_count": 9,
   "metadata": {},
   "outputs": [
    {
     "name": "stdout",
     "output_type": "stream",
     "text": [
      "Filtering...\n",
      "- filtered length: 2966;\n",
      "- filtered ratio: 2.02%.\n"
     ]
    }
   ],
   "source": [
    "# set filter params\n",
    "preprocessor.setParam(\n",
    "    funcName='filter',\n",
    "    paramDict={\n",
    "        \"minSpeed\": 0,\n",
    "        \"maxSpeed\": 150,\n",
    "        \"minAcc\": -4.4704,\n",
    "        \"maxAcc\": 6.25856,\n",
    "        \"minVSP\": -47.5,\n",
    "        \"maxVSP\": 62.5\n",
    "    }\n",
    ")\n",
    "\n",
    "# perform filtering\n",
    "traj_filtered = preprocessor.filter(traj_smoothed)"
   ]
  },
  {
   "cell_type": "markdown",
   "metadata": {},
   "source": [
    "# 2 Pipe"
   ]
  },
  {
   "cell_type": "markdown",
   "metadata": {},
   "source": [
    "We provide pipeline function to combine several operations in one procedure."
   ]
  },
  {
   "cell_type": "code",
   "execution_count": 10,
   "metadata": {},
   "outputs": [
    {
     "name": "stdout",
     "output_type": "stream",
     "text": [
      "Encoding...\n",
      "Segmenting...\n",
      "- segmented trip amount: 12.\n"
     ]
    },
    {
     "name": "stderr",
     "output_type": "stream",
     "text": [
      "Densifying:   0%|          | 0/12 [00:00<?, ?it/s]"
     ]
    },
    {
     "name": "stderr",
     "output_type": "stream",
     "text": [
      "Densifying: 100%|██████████| 12/12 [00:00<00:00, 51.05it/s]\n"
     ]
    },
    {
     "name": "stdout",
     "output_type": "stream",
     "text": [
      "- densified length: 3050;\n",
      "- densified ratio: 305.00%.\n",
      "Calculating...\n"
     ]
    },
    {
     "name": "stderr",
     "output_type": "stream",
     "text": [
      "Smoothing: 100%|██████████| 11/11 [00:00<00:00, 687.64it/s]"
     ]
    },
    {
     "name": "stdout",
     "output_type": "stream",
     "text": [
      "Filtering...\n",
      "- filtered length: 2963;\n",
      "- filtered ratio: 2.11%.\n"
     ]
    },
    {
     "name": "stderr",
     "output_type": "stream",
     "text": [
      "\n"
     ]
    },
    {
     "data": {
      "text/html": [
       "<div>\n",
       "<style scoped>\n",
       "    .dataframe tbody tr th:only-of-type {\n",
       "        vertical-align: middle;\n",
       "    }\n",
       "\n",
       "    .dataframe tbody tr th {\n",
       "        vertical-align: top;\n",
       "    }\n",
       "\n",
       "    .dataframe thead th {\n",
       "        text-align: right;\n",
       "    }\n",
       "</style>\n",
       "<table border=\"1\" class=\"dataframe\">\n",
       "  <thead>\n",
       "    <tr style=\"text-align: right;\">\n",
       "      <th></th>\n",
       "      <th>vehID</th>\n",
       "      <th>orderID</th>\n",
       "      <th>tripID</th>\n",
       "      <th>time[s]</th>\n",
       "      <th>lon</th>\n",
       "      <th>lat</th>\n",
       "      <th>dist[km]</th>\n",
       "      <th>interval[s]</th>\n",
       "      <th>speed[km/h]</th>\n",
       "      <th>acc[m/s2]</th>\n",
       "      <th>ele[m]</th>\n",
       "      <th>grade[D]</th>\n",
       "      <th>VSP[kW/t]</th>\n",
       "    </tr>\n",
       "  </thead>\n",
       "  <tbody>\n",
       "    <tr>\n",
       "      <th>1</th>\n",
       "      <td>0.0</td>\n",
       "      <td>0.0</td>\n",
       "      <td>0.0</td>\n",
       "      <td>1.477969e+09</td>\n",
       "      <td>104.070087</td>\n",
       "      <td>30.731888</td>\n",
       "      <td>0.007380</td>\n",
       "      <td>1.0</td>\n",
       "      <td>32.384281</td>\n",
       "      <td>-3.726804</td>\n",
       "      <td>466.000</td>\n",
       "      <td>0.000000</td>\n",
       "      <td>-34.847050</td>\n",
       "    </tr>\n",
       "    <tr>\n",
       "      <th>2</th>\n",
       "      <td>0.0</td>\n",
       "      <td>0.0</td>\n",
       "      <td>0.0</td>\n",
       "      <td>1.477969e+09</td>\n",
       "      <td>104.070087</td>\n",
       "      <td>30.731822</td>\n",
       "      <td>0.004364</td>\n",
       "      <td>1.0</td>\n",
       "      <td>20.712196</td>\n",
       "      <td>-1.527181</td>\n",
       "      <td>466.000</td>\n",
       "      <td>0.068639</td>\n",
       "      <td>-9.830153</td>\n",
       "    </tr>\n",
       "    <tr>\n",
       "      <th>3</th>\n",
       "      <td>0.0</td>\n",
       "      <td>0.0</td>\n",
       "      <td>0.0</td>\n",
       "      <td>1.477969e+09</td>\n",
       "      <td>104.070082</td>\n",
       "      <td>30.731783</td>\n",
       "      <td>0.003779</td>\n",
       "      <td>1.0</td>\n",
       "      <td>15.737670</td>\n",
       "      <td>0.747944</td>\n",
       "      <td>465.700</td>\n",
       "      <td>0.055508</td>\n",
       "      <td>3.349933</td>\n",
       "    </tr>\n",
       "    <tr>\n",
       "      <th>4</th>\n",
       "      <td>0.0</td>\n",
       "      <td>0.0</td>\n",
       "      <td>0.0</td>\n",
       "      <td>1.477969e+09</td>\n",
       "      <td>104.070070</td>\n",
       "      <td>30.731750</td>\n",
       "      <td>0.005502</td>\n",
       "      <td>1.0</td>\n",
       "      <td>18.587265</td>\n",
       "      <td>2.996978</td>\n",
       "      <td>465.490</td>\n",
       "      <td>0.026709</td>\n",
       "      <td>17.738155</td>\n",
       "    </tr>\n",
       "    <tr>\n",
       "      <th>5</th>\n",
       "      <td>0.0</td>\n",
       "      <td>0.0</td>\n",
       "      <td>0.0</td>\n",
       "      <td>1.477969e+09</td>\n",
       "      <td>104.070051</td>\n",
       "      <td>30.731704</td>\n",
       "      <td>0.009463</td>\n",
       "      <td>1.0</td>\n",
       "      <td>29.423483</td>\n",
       "      <td>5.278275</td>\n",
       "      <td>465.343</td>\n",
       "      <td>0.042550</td>\n",
       "      <td>50.495445</td>\n",
       "    </tr>\n",
       "  </tbody>\n",
       "</table>\n",
       "</div>"
      ],
      "text/plain": [
       "   vehID  orderID  tripID       time[s]         lon        lat  dist[km]   \n",
       "1    0.0      0.0     0.0  1.477969e+09  104.070087  30.731888  0.007380  \\\n",
       "2    0.0      0.0     0.0  1.477969e+09  104.070087  30.731822  0.004364   \n",
       "3    0.0      0.0     0.0  1.477969e+09  104.070082  30.731783  0.003779   \n",
       "4    0.0      0.0     0.0  1.477969e+09  104.070070  30.731750  0.005502   \n",
       "5    0.0      0.0     0.0  1.477969e+09  104.070051  30.731704  0.009463   \n",
       "\n",
       "   interval[s]  speed[km/h]  acc[m/s2]   ele[m]  grade[D]  VSP[kW/t]  \n",
       "1          1.0    32.384281  -3.726804  466.000  0.000000 -34.847050  \n",
       "2          1.0    20.712196  -1.527181  466.000  0.068639  -9.830153  \n",
       "3          1.0    15.737670   0.747944  465.700  0.055508   3.349933  \n",
       "4          1.0    18.587265   2.996978  465.490  0.026709  17.738155  \n",
       "5          1.0    29.423483   5.278275  465.343  0.042550  50.495445  "
      ]
     },
     "execution_count": 10,
     "metadata": {},
     "output_type": "execute_result"
    }
   ],
   "source": [
    "from preprocessing import Preprocess\n",
    "\n",
    "# set parameters\n",
    "encodeParam = {\n",
    "    \"colName\": ['vehID', 'orderID', 'time[s]', 'lon', 'lat'],\n",
    "    \"encodingCol\": ['vehID', 'orderID'],\n",
    "    \"sortBy\": ['vehID', 'orderID', 'time[s]'],\n",
    "    \"originCRS\": 'GCJ02'\n",
    "}\n",
    "filterParam = {\"maxSpeed\": 150}\n",
    "segmentParam = {\"segRefCol\": 'orderID', \"maxInterval\": 6}\n",
    "densifyParam = {\"interpFunc\": 'cubic'}\n",
    "demPath = \"./data/geo/AP_27359_FBS_F0600_RT1.dem.tif\"\n",
    "calculateParam = {\"demPath\": demPath}\n",
    "smoothParam = {\"smoothCol\": ['speed[km/h]', 'acc[m/s2]', 'VSP[kW/t]'], \"smoothFunc\": 'exp'}\n",
    "\n",
    "pre = Preprocess(\n",
    "    encodeParam=encodeParam,\n",
    "    filterParam=filterParam,\n",
    "    segmentParam=segmentParam,\n",
    "    densifyParam=densifyParam,\n",
    "    calculateParam=calculateParam,\n",
    "    smoothParam=smoothParam\n",
    ")\n",
    "\n",
    "# perform pipeline\n",
    "traj = pre.pipe(raw, steps=['encode', 'segment', 'densify', 'calculate', 'smooth', 'filter'])\n",
    "traj.head()"
   ]
  },
  {
   "cell_type": "code",
   "execution_count": 11,
   "metadata": {},
   "outputs": [],
   "source": [
    "# traj.to_csv(\"./data/traj/sample_preprocessed.csv\", index=False)"
   ]
  },
  {
   "cell_type": "markdown",
   "metadata": {},
   "source": [
    "# Appendix A"
   ]
  },
  {
   "cell_type": "markdown",
   "metadata": {},
   "source": [
    "The function `Preprocess.printDefautParam` helps you check defaut parameters in `Preprocess`."
   ]
  },
  {
   "cell_type": "code",
   "execution_count": 11,
   "metadata": {},
   "outputs": [
    {
     "name": "stdout",
     "output_type": "stream",
     "text": [
      "colName: ['vehID', 'orderID', 'time[s]', 'lon', 'lat']\n",
      "encodingCol: ['vehID', 'orderID']\n",
      "sortBy: ['vehID', 'orderID', 'time[s]']\n",
      "originCRS: GCJ02\n"
     ]
    }
   ],
   "source": [
    "preprocessor.printDefaultParam('encode')"
   ]
  },
  {
   "cell_type": "code",
   "execution_count": 12,
   "metadata": {},
   "outputs": [
    {
     "name": "stdout",
     "output_type": "stream",
     "text": [
      "intervalCol: interval[s]\n",
      "speedCol: speed[km/h]\n",
      "accCol: acc[m/s2]\n",
      "VSPCol: VSP[kW/t]\n",
      "minSpeed: 0\n",
      "maxSpeed: 150\n",
      "minAcc: -4.4704\n",
      "maxAcc: 6.25856\n",
      "minVSP: -47.5\n",
      "maxVSP: 62.5\n"
     ]
    }
   ],
   "source": [
    "preprocessor.printDefaultParam('filter')"
   ]
  },
  {
   "cell_type": "code",
   "execution_count": 13,
   "metadata": {},
   "outputs": [
    {
     "name": "stdout",
     "output_type": "stream",
     "text": [
      "interval: True\n",
      "segRefCol: orderID\n",
      "timeCol: time[s]\n",
      "tripIDColName: tripID\n",
      "maxInterval: 6\n"
     ]
    }
   ],
   "source": [
    "preprocessor.printDefaultParam('segment')"
   ]
  },
  {
   "cell_type": "code",
   "execution_count": 14,
   "metadata": {},
   "outputs": [
    {
     "name": "stdout",
     "output_type": "stream",
     "text": [
      "timeCol: time[s]\n",
      "tripIDCol: tripID\n",
      "sortBy: ['vehID', 'tripID', 'time[s]']\n",
      "lonCol: lon\n",
      "latCol: lat\n",
      "interpFunc: cubic\n"
     ]
    }
   ],
   "source": [
    "preprocessor.printDefaultParam('densify')"
   ]
  },
  {
   "cell_type": "code",
   "execution_count": 15,
   "metadata": {},
   "outputs": [
    {
     "name": "stdout",
     "output_type": "stream",
     "text": [
      "demPath: None\n",
      "tripIDCol: tripID\n",
      "sortBy: ['vehID', 'tripID', 'time[s]']\n",
      "dem: None\n",
      "speed: True\n",
      "acc: True\n",
      "VSP: True\n",
      "weight: 1.497\n",
      "lonCol: lon\n",
      "latCol: lat\n",
      "timeCol: time[s]\n",
      "distColName: dist[km]\n",
      "intervalColName: interval[s]\n",
      "speedColName: speed[km/h]\n",
      "accColName: acc[m/s2]\n",
      "gradeColName: grade[D]\n",
      "VSPColName: VSP[kW/t]\n",
      "calDirect: forward\n"
     ]
    }
   ],
   "source": [
    "preprocessor.printDefaultParam('calculate')"
   ]
  },
  {
   "cell_type": "code",
   "execution_count": 16,
   "metadata": {},
   "outputs": [
    {
     "name": "stdout",
     "output_type": "stream",
     "text": [
      "smoothCol: ['speed[km/h]', 'acc[m/s2]', 'VSP[kW/t]']\n",
      "tripIDCol: tripID\n",
      "smoothFunc: exp\n"
     ]
    }
   ],
   "source": [
    "preprocessor.printDefaultParam('smooth')"
   ]
  }
 ],
 "metadata": {
  "kernelspec": {
   "display_name": "geo",
   "language": "python",
   "name": "python3"
  },
  "language_info": {
   "codemirror_mode": {
    "name": "ipython",
    "version": 3
   },
   "file_extension": ".py",
   "mimetype": "text/x-python",
   "name": "python",
   "nbconvert_exporter": "python",
   "pygments_lexer": "ipython3",
   "version": "3.11.3"
  },
  "orig_nbformat": 4
 },
 "nbformat": 4,
 "nbformat_minor": 2
}
